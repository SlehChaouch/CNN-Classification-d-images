{
  "nbformat": 4,
  "nbformat_minor": 0,
  "metadata": {
    "colab": {
      "name": "Stock market forecasting- Mini projet Deep Learning.ipynb",
      "provenance": [],
      "collapsed_sections": [],
      "authorship_tag": "ABX9TyOq1sV7B4cXddTsd/kruaGr",
      "include_colab_link": true
    },
    "kernelspec": {
      "name": "python3",
      "display_name": "Python 3"
    },
    "language_info": {
      "name": "python"
    }
  },
  "cells": [
    {
      "cell_type": "markdown",
      "metadata": {
        "id": "view-in-github",
        "colab_type": "text"
      },
      "source": [
        "<a href=\"https://colab.research.google.com/github/SlehChaouch/Stock-market-forecasting-using-LSTM-and-MLP/blob/main/Stock_market_forecasting_Mini_projet_Deep_Learning.ipynb\" target=\"_parent\"><img src=\"https://colab.research.google.com/assets/colab-badge.svg\" alt=\"Open In Colab\"/></a>"
      ]
    },
    {
      "cell_type": "markdown",
      "source": [
        "# Stock Market Prediction And Forecasting Using LSTM\n",
        "\n",
        "---\n",
        "\n",
        "\n",
        "\n"
      ],
      "metadata": {
        "id": "R3vpp2uRHx3b"
      }
    },
    {
      "cell_type": "markdown",
      "source": [
        "# APPLE"
      ],
      "metadata": {
        "id": "kWrsYOxEGda_"
      }
    },
    {
      "cell_type": "code",
      "source": [
        "# Importation des données\n",
        "from google.colab import files\n",
        "data_to_load = files.upload()"
      ],
      "metadata": {
        "id": "OVbS4Cnoac2r",
        "colab": {
          "resources": {
            "http://localhost:8080/nbextensions/google.colab/files.js": {
              "data": "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",
              "ok": true,
              "headers": [
                [
                  "content-type",
                  "application/javascript"
                ]
              ],
              "status": 200,
              "status_text": ""
            }
          },
          "base_uri": "https://localhost:8080/",
          "height": 38
        },
        "outputId": "414d252b-47e5-46f9-e534-93d2cba80528"
      },
      "execution_count": 23,
      "outputs": [
        {
          "output_type": "display_data",
          "data": {
            "text/html": [
              "\n",
              "     <input type=\"file\" id=\"files-9d067ec3-6820-4c39-94f5-e9a03f5de409\" name=\"files[]\" multiple disabled\n",
              "        style=\"border:none\" />\n",
              "     <output id=\"result-9d067ec3-6820-4c39-94f5-e9a03f5de409\">\n",
              "      Upload widget is only available when the cell has been executed in the\n",
              "      current browser session. Please rerun this cell to enable.\n",
              "      </output>\n",
              "      <script src=\"/nbextensions/google.colab/files.js\"></script> "
            ],
            "text/plain": [
              "<IPython.core.display.HTML object>"
            ]
          },
          "metadata": {}
        }
      ]
    },
    {
      "cell_type": "code",
      "source": [
        "import io\n",
        "import pandas as pd\n",
        "df = pd.read_csv(io.BytesIO(data_to_load['AAPL.csv']))"
      ],
      "metadata": {
        "id": "9dfDfOASMLDT"
      },
      "execution_count": null,
      "outputs": []
    },
    {
      "cell_type": "code",
      "source": [
        "df.head() # cours de l'action en 2015"
      ],
      "metadata": {
        "id": "iAdzL8_Qac6F",
        "colab": {
          "base_uri": "https://localhost:8080/",
          "height": 206
        },
        "outputId": "a6ebaf5b-7987-4035-c7dd-3bff688a5932"
      },
      "execution_count": 22,
      "outputs": [
        {
          "output_type": "execute_result",
          "data": {
            "text/html": [
              "\n",
              "  <div id=\"df-1843d5b6-4a08-4245-a043-5382975de0db\">\n",
              "    <div class=\"colab-df-container\">\n",
              "      <div>\n",
              "<style scoped>\n",
              "    .dataframe tbody tr th:only-of-type {\n",
              "        vertical-align: middle;\n",
              "    }\n",
              "\n",
              "    .dataframe tbody tr th {\n",
              "        vertical-align: top;\n",
              "    }\n",
              "\n",
              "    .dataframe thead th {\n",
              "        text-align: right;\n",
              "    }\n",
              "</style>\n",
              "<table border=\"1\" class=\"dataframe\">\n",
              "  <thead>\n",
              "    <tr style=\"text-align: right;\">\n",
              "      <th></th>\n",
              "      <th>Date</th>\n",
              "      <th>Open</th>\n",
              "      <th>High</th>\n",
              "      <th>Low</th>\n",
              "      <th>Close</th>\n",
              "      <th>Adj Close</th>\n",
              "      <th>Volume</th>\n",
              "    </tr>\n",
              "  </thead>\n",
              "  <tbody>\n",
              "    <tr>\n",
              "      <th>0</th>\n",
              "      <td>2015-12-21</td>\n",
              "      <td>668.500000</td>\n",
              "      <td>669.900024</td>\n",
              "      <td>658.929993</td>\n",
              "      <td>664.510010</td>\n",
              "      <td>664.510010</td>\n",
              "      <td>3250900</td>\n",
              "    </tr>\n",
              "    <tr>\n",
              "      <th>1</th>\n",
              "      <td>2015-12-22</td>\n",
              "      <td>666.830017</td>\n",
              "      <td>668.489990</td>\n",
              "      <td>659.260010</td>\n",
              "      <td>663.150024</td>\n",
              "      <td>663.150024</td>\n",
              "      <td>2667800</td>\n",
              "    </tr>\n",
              "    <tr>\n",
              "      <th>2</th>\n",
              "      <td>2015-12-23</td>\n",
              "      <td>666.500000</td>\n",
              "      <td>666.599976</td>\n",
              "      <td>656.630005</td>\n",
              "      <td>663.700012</td>\n",
              "      <td>663.700012</td>\n",
              "      <td>2722900</td>\n",
              "    </tr>\n",
              "    <tr>\n",
              "      <th>3</th>\n",
              "      <td>2015-12-24</td>\n",
              "      <td>663.349976</td>\n",
              "      <td>664.679993</td>\n",
              "      <td>660.599976</td>\n",
              "      <td>662.789978</td>\n",
              "      <td>662.789978</td>\n",
              "      <td>1091200</td>\n",
              "    </tr>\n",
              "    <tr>\n",
              "      <th>4</th>\n",
              "      <td>2015-12-28</td>\n",
              "      <td>665.559998</td>\n",
              "      <td>675.500000</td>\n",
              "      <td>665.500000</td>\n",
              "      <td>675.200012</td>\n",
              "      <td>675.200012</td>\n",
              "      <td>3783600</td>\n",
              "    </tr>\n",
              "  </tbody>\n",
              "</table>\n",
              "</div>\n",
              "      <button class=\"colab-df-convert\" onclick=\"convertToInteractive('df-1843d5b6-4a08-4245-a043-5382975de0db')\"\n",
              "              title=\"Convert this dataframe to an interactive table.\"\n",
              "              style=\"display:none;\">\n",
              "        \n",
              "  <svg xmlns=\"http://www.w3.org/2000/svg\" height=\"24px\"viewBox=\"0 0 24 24\"\n",
              "       width=\"24px\">\n",
              "    <path d=\"M0 0h24v24H0V0z\" fill=\"none\"/>\n",
              "    <path d=\"M18.56 5.44l.94 2.06.94-2.06 2.06-.94-2.06-.94-.94-2.06-.94 2.06-2.06.94zm-11 1L8.5 8.5l.94-2.06 2.06-.94-2.06-.94L8.5 2.5l-.94 2.06-2.06.94zm10 10l.94 2.06.94-2.06 2.06-.94-2.06-.94-.94-2.06-.94 2.06-2.06.94z\"/><path d=\"M17.41 7.96l-1.37-1.37c-.4-.4-.92-.59-1.43-.59-.52 0-1.04.2-1.43.59L10.3 9.45l-7.72 7.72c-.78.78-.78 2.05 0 2.83L4 21.41c.39.39.9.59 1.41.59.51 0 1.02-.2 1.41-.59l7.78-7.78 2.81-2.81c.8-.78.8-2.07 0-2.86zM5.41 20L4 18.59l7.72-7.72 1.47 1.35L5.41 20z\"/>\n",
              "  </svg>\n",
              "      </button>\n",
              "      \n",
              "  <style>\n",
              "    .colab-df-container {\n",
              "      display:flex;\n",
              "      flex-wrap:wrap;\n",
              "      gap: 12px;\n",
              "    }\n",
              "\n",
              "    .colab-df-convert {\n",
              "      background-color: #E8F0FE;\n",
              "      border: none;\n",
              "      border-radius: 50%;\n",
              "      cursor: pointer;\n",
              "      display: none;\n",
              "      fill: #1967D2;\n",
              "      height: 32px;\n",
              "      padding: 0 0 0 0;\n",
              "      width: 32px;\n",
              "    }\n",
              "\n",
              "    .colab-df-convert:hover {\n",
              "      background-color: #E2EBFA;\n",
              "      box-shadow: 0px 1px 2px rgba(60, 64, 67, 0.3), 0px 1px 3px 1px rgba(60, 64, 67, 0.15);\n",
              "      fill: #174EA6;\n",
              "    }\n",
              "\n",
              "    [theme=dark] .colab-df-convert {\n",
              "      background-color: #3B4455;\n",
              "      fill: #D2E3FC;\n",
              "    }\n",
              "\n",
              "    [theme=dark] .colab-df-convert:hover {\n",
              "      background-color: #434B5C;\n",
              "      box-shadow: 0px 1px 3px 1px rgba(0, 0, 0, 0.15);\n",
              "      filter: drop-shadow(0px 1px 2px rgba(0, 0, 0, 0.3));\n",
              "      fill: #FFFFFF;\n",
              "    }\n",
              "  </style>\n",
              "\n",
              "      <script>\n",
              "        const buttonEl =\n",
              "          document.querySelector('#df-1843d5b6-4a08-4245-a043-5382975de0db button.colab-df-convert');\n",
              "        buttonEl.style.display =\n",
              "          google.colab.kernel.accessAllowed ? 'block' : 'none';\n",
              "\n",
              "        async function convertToInteractive(key) {\n",
              "          const element = document.querySelector('#df-1843d5b6-4a08-4245-a043-5382975de0db');\n",
              "          const dataTable =\n",
              "            await google.colab.kernel.invokeFunction('convertToInteractive',\n",
              "                                                     [key], {});\n",
              "          if (!dataTable) return;\n",
              "\n",
              "          const docLinkHtml = 'Like what you see? Visit the ' +\n",
              "            '<a target=\"_blank\" href=https://colab.research.google.com/notebooks/data_table.ipynb>data table notebook</a>'\n",
              "            + ' to learn more about interactive tables.';\n",
              "          element.innerHTML = '';\n",
              "          dataTable['output_type'] = 'display_data';\n",
              "          await google.colab.output.renderOutput(dataTable, element);\n",
              "          const docLink = document.createElement('div');\n",
              "          docLink.innerHTML = docLinkHtml;\n",
              "          element.appendChild(docLink);\n",
              "        }\n",
              "      </script>\n",
              "    </div>\n",
              "  </div>\n",
              "  "
            ],
            "text/plain": [
              "         Date        Open        High  ...       Close   Adj Close   Volume\n",
              "0  2015-12-21  668.500000  669.900024  ...  664.510010  664.510010  3250900\n",
              "1  2015-12-22  666.830017  668.489990  ...  663.150024  663.150024  2667800\n",
              "2  2015-12-23  666.500000  666.599976  ...  663.700012  663.700012  2722900\n",
              "3  2015-12-24  663.349976  664.679993  ...  662.789978  662.789978  1091200\n",
              "4  2015-12-28  665.559998  675.500000  ...  675.200012  675.200012  3783600\n",
              "\n",
              "[5 rows x 7 columns]"
            ]
          },
          "metadata": {},
          "execution_count": 22
        }
      ]
    },
    {
      "cell_type": "code",
      "source": [
        "df.tail() # cours de l'action en 2020"
      ],
      "metadata": {
        "colab": {
          "base_uri": "https://localhost:8080/",
          "height": 206
        },
        "id": "PYFwANsaNNwu",
        "outputId": "b10ea064-0b3d-4bf1-b9c5-f81c8b209201"
      },
      "execution_count": null,
      "outputs": [
        {
          "output_type": "execute_result",
          "data": {
            "text/html": [
              "\n",
              "  <div id=\"df-6d790ea2-0924-42c0-81e5-11e367b1dbd4\">\n",
              "    <div class=\"colab-df-container\">\n",
              "      <div>\n",
              "<style scoped>\n",
              "    .dataframe tbody tr th:only-of-type {\n",
              "        vertical-align: middle;\n",
              "    }\n",
              "\n",
              "    .dataframe tbody tr th {\n",
              "        vertical-align: top;\n",
              "    }\n",
              "\n",
              "    .dataframe thead th {\n",
              "        text-align: right;\n",
              "    }\n",
              "</style>\n",
              "<table border=\"1\" class=\"dataframe\">\n",
              "  <thead>\n",
              "    <tr style=\"text-align: right;\">\n",
              "      <th></th>\n",
              "      <th>Date</th>\n",
              "      <th>Open</th>\n",
              "      <th>High</th>\n",
              "      <th>Low</th>\n",
              "      <th>Close</th>\n",
              "      <th>Adj Close</th>\n",
              "      <th>Volume</th>\n",
              "    </tr>\n",
              "  </thead>\n",
              "  <tbody>\n",
              "    <tr>\n",
              "      <th>1252</th>\n",
              "      <td>2020-05-15</td>\n",
              "      <td>75.087502</td>\n",
              "      <td>76.974998</td>\n",
              "      <td>75.052498</td>\n",
              "      <td>76.927498</td>\n",
              "      <td>76.187111</td>\n",
              "      <td>166348400</td>\n",
              "    </tr>\n",
              "    <tr>\n",
              "      <th>1253</th>\n",
              "      <td>2020-05-18</td>\n",
              "      <td>78.292503</td>\n",
              "      <td>79.125000</td>\n",
              "      <td>77.580002</td>\n",
              "      <td>78.739998</td>\n",
              "      <td>77.982170</td>\n",
              "      <td>135178400</td>\n",
              "    </tr>\n",
              "    <tr>\n",
              "      <th>1254</th>\n",
              "      <td>2020-05-19</td>\n",
              "      <td>78.757500</td>\n",
              "      <td>79.629997</td>\n",
              "      <td>78.252502</td>\n",
              "      <td>78.285004</td>\n",
              "      <td>77.531563</td>\n",
              "      <td>101729600</td>\n",
              "    </tr>\n",
              "    <tr>\n",
              "      <th>1255</th>\n",
              "      <td>2020-05-20</td>\n",
              "      <td>79.169998</td>\n",
              "      <td>79.879997</td>\n",
              "      <td>79.129997</td>\n",
              "      <td>79.807503</td>\n",
              "      <td>79.039398</td>\n",
              "      <td>111504800</td>\n",
              "    </tr>\n",
              "    <tr>\n",
              "      <th>1256</th>\n",
              "      <td>2020-05-21</td>\n",
              "      <td>79.665001</td>\n",
              "      <td>80.222504</td>\n",
              "      <td>78.967499</td>\n",
              "      <td>79.212502</td>\n",
              "      <td>78.450134</td>\n",
              "      <td>102688800</td>\n",
              "    </tr>\n",
              "  </tbody>\n",
              "</table>\n",
              "</div>\n",
              "      <button class=\"colab-df-convert\" onclick=\"convertToInteractive('df-6d790ea2-0924-42c0-81e5-11e367b1dbd4')\"\n",
              "              title=\"Convert this dataframe to an interactive table.\"\n",
              "              style=\"display:none;\">\n",
              "        \n",
              "  <svg xmlns=\"http://www.w3.org/2000/svg\" height=\"24px\"viewBox=\"0 0 24 24\"\n",
              "       width=\"24px\">\n",
              "    <path d=\"M0 0h24v24H0V0z\" fill=\"none\"/>\n",
              "    <path d=\"M18.56 5.44l.94 2.06.94-2.06 2.06-.94-2.06-.94-.94-2.06-.94 2.06-2.06.94zm-11 1L8.5 8.5l.94-2.06 2.06-.94-2.06-.94L8.5 2.5l-.94 2.06-2.06.94zm10 10l.94 2.06.94-2.06 2.06-.94-2.06-.94-.94-2.06-.94 2.06-2.06.94z\"/><path d=\"M17.41 7.96l-1.37-1.37c-.4-.4-.92-.59-1.43-.59-.52 0-1.04.2-1.43.59L10.3 9.45l-7.72 7.72c-.78.78-.78 2.05 0 2.83L4 21.41c.39.39.9.59 1.41.59.51 0 1.02-.2 1.41-.59l7.78-7.78 2.81-2.81c.8-.78.8-2.07 0-2.86zM5.41 20L4 18.59l7.72-7.72 1.47 1.35L5.41 20z\"/>\n",
              "  </svg>\n",
              "      </button>\n",
              "      \n",
              "  <style>\n",
              "    .colab-df-container {\n",
              "      display:flex;\n",
              "      flex-wrap:wrap;\n",
              "      gap: 12px;\n",
              "    }\n",
              "\n",
              "    .colab-df-convert {\n",
              "      background-color: #E8F0FE;\n",
              "      border: none;\n",
              "      border-radius: 50%;\n",
              "      cursor: pointer;\n",
              "      display: none;\n",
              "      fill: #1967D2;\n",
              "      height: 32px;\n",
              "      padding: 0 0 0 0;\n",
              "      width: 32px;\n",
              "    }\n",
              "\n",
              "    .colab-df-convert:hover {\n",
              "      background-color: #E2EBFA;\n",
              "      box-shadow: 0px 1px 2px rgba(60, 64, 67, 0.3), 0px 1px 3px 1px rgba(60, 64, 67, 0.15);\n",
              "      fill: #174EA6;\n",
              "    }\n",
              "\n",
              "    [theme=dark] .colab-df-convert {\n",
              "      background-color: #3B4455;\n",
              "      fill: #D2E3FC;\n",
              "    }\n",
              "\n",
              "    [theme=dark] .colab-df-convert:hover {\n",
              "      background-color: #434B5C;\n",
              "      box-shadow: 0px 1px 3px 1px rgba(0, 0, 0, 0.15);\n",
              "      filter: drop-shadow(0px 1px 2px rgba(0, 0, 0, 0.3));\n",
              "      fill: #FFFFFF;\n",
              "    }\n",
              "  </style>\n",
              "\n",
              "      <script>\n",
              "        const buttonEl =\n",
              "          document.querySelector('#df-6d790ea2-0924-42c0-81e5-11e367b1dbd4 button.colab-df-convert');\n",
              "        buttonEl.style.display =\n",
              "          google.colab.kernel.accessAllowed ? 'block' : 'none';\n",
              "\n",
              "        async function convertToInteractive(key) {\n",
              "          const element = document.querySelector('#df-6d790ea2-0924-42c0-81e5-11e367b1dbd4');\n",
              "          const dataTable =\n",
              "            await google.colab.kernel.invokeFunction('convertToInteractive',\n",
              "                                                     [key], {});\n",
              "          if (!dataTable) return;\n",
              "\n",
              "          const docLinkHtml = 'Like what you see? Visit the ' +\n",
              "            '<a target=\"_blank\" href=https://colab.research.google.com/notebooks/data_table.ipynb>data table notebook</a>'\n",
              "            + ' to learn more about interactive tables.';\n",
              "          element.innerHTML = '';\n",
              "          dataTable['output_type'] = 'display_data';\n",
              "          await google.colab.output.renderOutput(dataTable, element);\n",
              "          const docLink = document.createElement('div');\n",
              "          docLink.innerHTML = docLinkHtml;\n",
              "          element.appendChild(docLink);\n",
              "        }\n",
              "      </script>\n",
              "    </div>\n",
              "  </div>\n",
              "  "
            ],
            "text/plain": [
              "            Date       Open       High  ...      Close  Adj Close     Volume\n",
              "1252  2020-05-15  75.087502  76.974998  ...  76.927498  76.187111  166348400\n",
              "1253  2020-05-18  78.292503  79.125000  ...  78.739998  77.982170  135178400\n",
              "1254  2020-05-19  78.757500  79.629997  ...  78.285004  77.531563  101729600\n",
              "1255  2020-05-20  79.169998  79.879997  ...  79.807503  79.039398  111504800\n",
              "1256  2020-05-21  79.665001  80.222504  ...  79.212502  78.450134  102688800\n",
              "\n",
              "[5 rows x 7 columns]"
            ]
          },
          "metadata": {},
          "execution_count": 206
        }
      ]
    },
    {
      "cell_type": "code",
      "source": [
        "# Affichage de prix de fermeture journalier\n",
        "df1=df.reset_index()['Close']\n",
        "df1"
      ],
      "metadata": {
        "id": "3KOnCXQnac8S",
        "colab": {
          "base_uri": "https://localhost:8080/",
          "height": 0
        },
        "outputId": "c7e6a45f-0429-42e0-f838-2d01a5bd56fb"
      },
      "execution_count": 24,
      "outputs": [
        {
          "output_type": "execute_result",
          "data": {
            "text/plain": [
              "0        664.510010\n",
              "1        663.150024\n",
              "2        663.700012\n",
              "3        662.789978\n",
              "4        675.200012\n",
              "           ...     \n",
              "1254    3156.969971\n",
              "1255    3165.120117\n",
              "1256    3240.959961\n",
              "1257    3236.080078\n",
              "1258    3201.649902\n",
              "Name: Close, Length: 1259, dtype: float64"
            ]
          },
          "metadata": {},
          "execution_count": 24
        }
      ]
    },
    {
      "cell_type": "code",
      "source": [
        "df1.isnull().values.any()"
      ],
      "metadata": {
        "colab": {
          "base_uri": "https://localhost:8080/"
        },
        "id": "7ZIOJI6ocFux",
        "outputId": "72c93cb5-7141-4825-e16c-7c1773288709"
      },
      "execution_count": null,
      "outputs": [
        {
          "output_type": "execute_result",
          "data": {
            "text/plain": [
              "False"
            ]
          },
          "metadata": {},
          "execution_count": 208
        }
      ]
    },
    {
      "cell_type": "code",
      "source": [
        "# Visualisation de variable close en fonction de date\n",
        "import matplotlib.pyplot as plt\n",
        "plt.plot(df1)"
      ],
      "metadata": {
        "id": "iV42BZWUac9-"
      },
      "execution_count": 16,
      "outputs": []
    },
    {
      "cell_type": "code",
      "source": [
        "min1 , max1 = min(df1),max(df1)\n",
        "min1 , max1"
      ],
      "metadata": {
        "colab": {
          "base_uri": "https://localhost:8080/"
        },
        "id": "xKCp8sa4NqtW",
        "outputId": "1502fb87-dbc5-49a9-97d5-3abd087641f4"
      },
      "execution_count": null,
      "outputs": [
        {
          "output_type": "execute_result",
          "data": {
            "text/plain": [
              "(482.07000700000003, 3531.4499509999996)"
            ]
          },
          "metadata": {},
          "execution_count": 109
        }
      ]
    },
    {
      "cell_type": "markdown",
      "source": [
        "# Pre-processing"
      ],
      "metadata": {
        "id": "R2zBO_KMN8g1"
      }
    },
    {
      "cell_type": "code",
      "source": [
        "#On applique le scaler MinMax.\n",
        "import numpy as np\n",
        "from sklearn.preprocessing import MinMaxScaler # importation à partir de bibliothéque de pre-processing de scikit learn, la méthode MinMaxScaler\n",
        "scaler=MinMaxScaler(feature_range=(0,1)) # création d'une fonction de normalisation\n",
        "df1=scaler.fit_transform(np.array(df1).reshape(-1,1)) # appliquer la normalisation sur df1 tout en créant une nouvelle matrice à la place de df1 précédente "
      ],
      "metadata": {
        "id": "HfUFWuQ_ac_Z"
      },
      "execution_count": 25,
      "outputs": []
    },
    {
      "cell_type": "code",
      "source": [
        "df1.shape"
      ],
      "metadata": {
        "colab": {
          "base_uri": "https://localhost:8080/"
        },
        "id": "-sdYLBeCl51_",
        "outputId": "faee8ad2-ccd7-4b2b-8bbf-f72d6299db25"
      },
      "execution_count": null,
      "outputs": [
        {
          "output_type": "execute_result",
          "data": {
            "text/plain": [
              "(1259, 1)"
            ]
          },
          "metadata": {},
          "execution_count": 111
        }
      ]
    },
    {
      "cell_type": "code",
      "source": [
        "training_size=int(len(df1)*0.75)\n",
        "test_size=len(df1)-training_size\n",
        "train_data,test_data=df1[0:training_size,:],df1[training_size:len(df1),:1]"
      ],
      "metadata": {
        "id": "seutrtiMFD9z"
      },
      "execution_count": 26,
      "outputs": []
    },
    {
      "cell_type": "code",
      "source": [
        "import numpy as np\n",
        "def create_dataset(dataset, time_step=1):\n",
        "\tdataX, dataY = [], []\n",
        "\tfor i in range(len(dataset)-time_step-1):\n",
        "\t\ta = dataset[i:(i+time_step), 0]   ###i=0, 0,1,2,3-----99   100 \n",
        "\t\tdataX.append(a)\n",
        "\t\tdataY.append(dataset[i + time_step, 0])\n",
        "\treturn np.array(dataX), np.array(dataY)"
      ],
      "metadata": {
        "id": "RGtDVFo9FF9z"
      },
      "execution_count": 27,
      "outputs": []
    },
    {
      "cell_type": "code",
      "source": [
        "time_step = 100\n",
        "X_train, y_train = create_dataset(train_data, time_step)\n",
        "X_test, ytest = create_dataset(test_data, time_step)"
      ],
      "metadata": {
        "id": "D3qZ3VtnFg8Q"
      },
      "execution_count": 28,
      "outputs": []
    },
    {
      "cell_type": "code",
      "source": [
        "X_train.shape, y_train.shape, X_test.shape, ytest.shape"
      ],
      "metadata": {
        "colab": {
          "base_uri": "https://localhost:8080/",
          "height": 0
        },
        "id": "iNdj9e9RFiMx",
        "outputId": "0356f13b-0111-4220-b676-658322f0ca6a"
      },
      "execution_count": 29,
      "outputs": [
        {
          "output_type": "execute_result",
          "data": {
            "text/plain": [
              "((843, 100), (843,), (214, 100), (214,))"
            ]
          },
          "metadata": {},
          "execution_count": 29
        }
      ]
    },
    {
      "cell_type": "markdown",
      "source": [
        "# Prédiction par la méthode de MultiLayer Perceptron"
      ],
      "metadata": {
        "id": "Zzf3F6vgqNQM"
      }
    },
    {
      "cell_type": "code",
      "source": [
        "from sklearn.neural_network import MLPRegressor"
      ],
      "metadata": {
        "id": "Xl9YssXuhYBC"
      },
      "execution_count": 30,
      "outputs": []
    },
    {
      "cell_type": "code",
      "source": [
        "#GridSearchCV pour trouver les meilleurs hyperparamètres pour notre modéle\n",
        "from sklearn.model_selection import GridSearchCV\n",
        "regressor = MLPRegressor()\n",
        "params_regressor = {'hidden_layer_sizes':[[8,32,64,128],[8,32,64]],'activation':['tanh','relu','logistic'],'batch_size':[128,256,200],'learning_rate':['adaptive','constant','invscaling'],'learning_rate_init':[0.01,0.005,0.05],'max_iter':[2000,1000,3000]}\n",
        "regressor_GS = GridSearchCV(regressor, param_grid=params_regressor, n_jobs=-1)\n",
        "regressor_GS.fit(X_train, y_train)\n",
        "regressor_GS.best_params_"
      ],
      "metadata": {
        "id": "8pjf6vYkUlro",
        "colab": {
          "base_uri": "https://localhost:8080/"
        },
        "outputId": "a086d4b9-f944-40fe-e73c-efaf64a37031"
      },
      "execution_count": null,
      "outputs": [
        {
          "output_type": "execute_result",
          "data": {
            "text/plain": [
              "{'activation': 'logistic',\n",
              " 'batch_size': 128,\n",
              " 'hidden_layer_sizes': [8, 32, 64],\n",
              " 'learning_rate': 'adaptive',\n",
              " 'learning_rate_init': 0.01,\n",
              " 'max_iter': 3000}"
            ]
          },
          "metadata": {},
          "execution_count": 30
        }
      ]
    },
    {
      "cell_type": "code",
      "source": [
        "# Hyperparamètres\n",
        "validation_size = 0.1\n",
        "layers = (64,32, 8)\n",
        "Lambda = 1e-05\n",
        "batch_size = 128\n",
        "initial_learning_rate = 0.01\n",
        "epochs = 2000"
      ],
      "metadata": {
        "id": "Yq7G-rMAhYDT"
      },
      "execution_count": 56,
      "outputs": []
    },
    {
      "cell_type": "code",
      "source": [
        "# Initialisation du modèle de régresseur\n",
        "regressor = MLPRegressor(\n",
        "        hidden_layer_sizes=layers,\n",
        "        activation='relu',\n",
        "        solver='adam',\n",
        "        alpha=Lambda,\n",
        "        batch_size=batch_size,\n",
        "        learning_rate='adaptive',\n",
        "        learning_rate_init=initial_learning_rate,\n",
        "        max_iter=epochs,\n",
        "        shuffle=True,\n",
        "        tol=0.0001,\n",
        "        verbose=False,\n",
        "        early_stopping=True,\n",
        "        validation_fraction=validation_size)"
      ],
      "metadata": {
        "id": "BXqDzKQ0hYIU"
      },
      "execution_count": 57,
      "outputs": []
    },
    {
      "cell_type": "code",
      "source": [
        "# Entraîner le régresseur\n",
        "avg_score = 0\n",
        "avg_error = 0\n",
        "min_error = 1\n",
        "max_error = 0\n",
        "avg_conv_iter = 0\n",
        "for i in range(10) :\n",
        "    regressor.fit(X_train, y_train) \n",
        "    avg_score += regressor.best_validation_score_\n",
        "    avg_conv_iter += regressor.n_iter_\n",
        "    cur_error = 1 - regressor.best_validation_score_\n",
        "    avg_error += cur_error\n",
        "    min_error = min(cur_error, min_error)\n",
        "    max_error = max(cur_error, max_error)\n",
        "\n",
        "avg_score /= 10\n",
        "avg_error /= 10\n",
        "avg_conv_iter /= 10"
      ],
      "metadata": {
        "id": "2kCb_itShYKS"
      },
      "execution_count": 58,
      "outputs": []
    },
    {
      "cell_type": "code",
      "source": [
        "print('avg_score    :', round(avg_score, 2))\n",
        "print('avg_error    :', round(avg_error, 2))\n",
        "print('max_error    :', round(max_error, 2))\n",
        "print('min_error    :', round(min_error, 2))\n",
        "print('avg_conv_iter:', round(avg_conv_iter, 2))\n",
        "print('Regressor Score:', regressor.score(X_test, ytest))"
      ],
      "metadata": {
        "id": "KADaYyRShYN-",
        "colab": {
          "base_uri": "https://localhost:8080/",
          "height": 0
        },
        "outputId": "58ea0bef-f641-4bba-d972-1a88b67cd0d9"
      },
      "execution_count": 59,
      "outputs": [
        {
          "output_type": "stream",
          "name": "stdout",
          "text": [
            "avg_score    : 0.99\n",
            "avg_error    : 0.01\n",
            "max_error    : 0.02\n",
            "min_error    : 0.01\n",
            "avg_conv_iter: 83.3\n",
            "Regressor Score: 0.955334921055037\n"
          ]
        }
      ]
    },
    {
      "cell_type": "code",
      "source": [
        "#Tracé des courbes d'erreur de gradient\n",
        "plt.plot(np.arange(0, len(regressor.loss_curve_)), regressor.loss_curve_, color='red', label='Training')\n",
        "plt.plot(np.arange(0, len(regressor.validation_scores_)), 1 - np.array(regressor.validation_scores_), color='blue', label='Validation')\n",
        "# définir le titre et les labels\n",
        "plt.title('Number of iterations VS Number of errors')\n",
        "plt.xlabel('Number of iterations')\n",
        "plt.ylabel('Number of errors')\n",
        "plt.legend()\n",
        "## affichage du graphique\n",
        "plt.show()"
      ],
      "metadata": {
        "id": "HWKV4ysBgs49",
        "colab": {
          "base_uri": "https://localhost:8080/",
          "height": 295
        },
        "outputId": "11e2bbc0-aac4-46b4-eb8a-b79a94f72066"
      },
      "execution_count": 60,
      "outputs": [
        {
          "output_type": "display_data",
          "data": {
            "image/png": "[encoded data removed]",
            "text/plain": [
              "<Figure size 432x288 with 1 Axes>"
            ]
          },
          "metadata": {
            "needs_background": "light"
          }
        }
      ]
    },
    {
      "cell_type": "code",
      "source": [
        "## Faisons la prédiction et vérifions les métriques de performance\n",
        "train_predict=regressor.predict(X_train)\n",
        "test_predict=regressor.predict(X_test)"
      ],
      "metadata": {
        "id": "gak5xs8dHpRK"
      },
      "execution_count": 61,
      "outputs": []
    },
    {
      "cell_type": "code",
      "source": [
        "## Plotting\n",
        "look_back=100\n",
        "trainPredictPlot = np.zeros(len(df1))\n",
        "trainPredictPlot[look_back:len(train_predict)+look_back] = train_predict\n",
        "trainPredictPlot = trainPredictPlot[trainPredictPlot!=0]\n",
        "# les prédictions de test de décalage pour le traçage(plotting)\n",
        "testPredictPlot = np.zeros(len(df1))\n",
        "testPredictPlot[:] = np.nan\n",
        "testPredictPlot[len(train_predict)+(look_back*2)+1:len(df1)-1] = test_predict\n",
        "testPredictPlot = testPredictPlot[testPredictPlot!=0]\n",
        "# plot base de référence et predictions\n",
        "plt.plot(df1)\n",
        "plt.plot(trainPredictPlot)\n",
        "plt.plot(testPredictPlot)\n",
        "plt.show()"
      ],
      "metadata": {
        "colab": {
          "base_uri": "https://localhost:8080/",
          "height": 265
        },
        "id": "klc0VIF8H3ht",
        "outputId": "a61c5aa7-d82c-418e-c991-8092597e6ddf"
      },
      "execution_count": 62,
      "outputs": [
        {
          "output_type": "display_data",
          "data": {
            "image/png": "[encoded data removed]",
            "text/plain": [
              "<Figure size 432x288 with 1 Axes>"
            ]
          },
          "metadata": {
            "needs_background": "light"
          }
        }
      ]
    },
    {
      "cell_type": "markdown",
      "source": [
        "### Création de model LSTM"
      ],
      "metadata": {
        "id": "1CdczoKzTnLQ"
      }
    },
    {
      "cell_type": "markdown",
      "source": [
        "Pre-processing  de nouveau"
      ],
      "metadata": {
        "id": "B0a8f2dkmHGE"
      }
    },
    {
      "cell_type": "code",
      "source": [
        "#On repete certain étape de pre-processing à nouveau car il ya des étapes spécifiques au modéle LSTM\n",
        "#Division de l'ensemble de données en deux parties, l'une pour l'entraînement et l'autre pour le test.\n",
        "training_size=int(len(df1)*0.75)\n",
        "test_size=len(df1)-training_size\n",
        "train_data,test_data=df1[0:training_size,:],df1[training_size:len(df1),:1]"
      ],
      "metadata": {
        "id": "eQgxqw7BadDN"
      },
      "execution_count": null,
      "outputs": []
    },
    {
      "cell_type": "code",
      "source": [
        "training_size,test_size\n"
      ],
      "metadata": {
        "id": "7Wp1cnLFadFU",
        "colab": {
          "base_uri": "https://localhost:8080/"
        },
        "outputId": "15602b08-3382-4738-eaa3-3999d0346844"
      },
      "execution_count": null,
      "outputs": [
        {
          "output_type": "execute_result",
          "data": {
            "text/plain": [
              "(942, 315)"
            ]
          },
          "metadata": {},
          "execution_count": 64
        }
      ]
    },
    {
      "cell_type": "code",
      "source": [
        "#convertir un tableau de valeurs en une matrice de dataset\n",
        "import numpy as np\n",
        "def create_dataset(dataset, time_step=1):\n",
        "\tdataX, dataY = [], []\n",
        "\tfor i in range(len(dataset)-time_step-1):\n",
        "\t\ta = dataset[i:(i+time_step), 0]   ###i=0, 0,1,2,3-----99   100 \n",
        "\t\tdataX.append(a)\n",
        "\t\tdataY.append(dataset[i + time_step, 0])\n",
        "\treturn np.array(dataX), np.array(dataY)"
      ],
      "metadata": {
        "id": "PgE257eqaddP"
      },
      "execution_count": null,
      "outputs": []
    },
    {
      "cell_type": "code",
      "source": [
        "# reshape à X=t,t+1,t+2,t+3 et Y=t+4\n",
        "time_step = 100\n",
        "X_train, y_train = create_dataset(train_data, time_step)\n",
        "X_test, ytest = create_dataset(test_data, time_step)"
      ],
      "metadata": {
        "id": "arr9-mZ4adfv"
      },
      "execution_count": null,
      "outputs": []
    },
    {
      "cell_type": "code",
      "source": [
        "(X_train.shape, y_train.shape)\n"
      ],
      "metadata": {
        "colab": {
          "base_uri": "https://localhost:8080/"
        },
        "id": "bDUgVEFHSnuM",
        "outputId": "86696a29-8100-482f-ebf0-e00d9707bf95"
      },
      "execution_count": null,
      "outputs": [
        {
          "output_type": "execute_result",
          "data": {
            "text/plain": [
              "((841, 100), (841,))"
            ]
          },
          "metadata": {},
          "execution_count": 67
        }
      ]
    },
    {
      "cell_type": "code",
      "source": [
        "(X_test.shape, ytest.shape)\n"
      ],
      "metadata": {
        "colab": {
          "base_uri": "https://localhost:8080/"
        },
        "id": "DLqbRm_7Snwh",
        "outputId": "0d6cafa5-f6b8-4862-9560-7a44afc7ef83"
      },
      "execution_count": null,
      "outputs": [
        {
          "output_type": "execute_result",
          "data": {
            "text/plain": [
              "((214, 100), (214,))"
            ]
          },
          "metadata": {},
          "execution_count": 68
        }
      ]
    },
    {
      "cell_type": "code",
      "source": [
        "# reshape l'entrée pour qu'elle soit [samples, time steps, features] ce qui est nécessaire pour les LSTM.\n",
        "X_train =X_train.reshape(X_train.shape[0],X_train.shape[1] , 1)\n",
        "X_test = X_test.reshape(X_test.shape[0],X_test.shape[1] , 1)"
      ],
      "metadata": {
        "id": "w62D4pn2Sny5"
      },
      "execution_count": null,
      "outputs": []
    },
    {
      "cell_type": "code",
      "source": [
        "# Importation des bibliothéques\n",
        "from tensorflow.keras.models import Sequential\n",
        "from tensorflow.keras.layers import Dense\n",
        "from tensorflow.keras.layers import LSTM\n",
        "from keras.layers import Dropout"
      ],
      "metadata": {
        "id": "qFrIAxhnSn3s"
      },
      "execution_count": 12,
      "outputs": []
    },
    {
      "cell_type": "code",
      "source": [
        "model=Sequential()\n",
        "#Ajout de première couche LSTM et d'une régularisation Dropout.\n",
        "model.add(LSTM(50,return_sequences=True,input_shape=(100,1)))\n",
        "model.add(Dropout(0.2))\n",
        "# Ajout d'une deuxième couche LSTM et d'une régularisation Dropout.\n",
        "model.add(LSTM(50,return_sequences=True))\n",
        "model.add(Dropout(0.2))\n",
        "# Ajout d'une troisième couche LSTM et d'une régularisation Dropout.\n",
        "model.add(LSTM(50, return_sequences = True))\n",
        "model.add(Dropout(0.2))\n",
        "# Ajout de la couche de sortie(output layer)\n",
        "model.add(Dense(1))\n",
        "# Compiler le RNN\n",
        "model.compile(loss='mean_squared_error',optimizer='adam')"
      ],
      "metadata": {
        "id": "ONTTr_3BSn6M"
      },
      "execution_count": null,
      "outputs": []
    },
    {
      "cell_type": "code",
      "source": [
        "model.summary()"
      ],
      "metadata": {
        "colab": {
          "base_uri": "https://localhost:8080/"
        },
        "id": "ESQivqttSn8b",
        "outputId": "755b18ef-fec0-408a-dcef-3f0c73c90fce"
      },
      "execution_count": null,
      "outputs": [
        {
          "output_type": "stream",
          "name": "stdout",
          "text": [
            "Model: \"sequential_4\"\n",
            "_________________________________________________________________\n",
            " Layer (type)                Output Shape              Param #   \n",
            "=================================================================\n",
            " lstm_10 (LSTM)              (None, 100, 50)           10400     \n",
            "                                                                 \n",
            " dropout (Dropout)           (None, 100, 50)           0         \n",
            "                                                                 \n",
            " lstm_11 (LSTM)              (None, 100, 50)           20200     \n",
            "                                                                 \n",
            " dropout_1 (Dropout)         (None, 100, 50)           0         \n",
            "                                                                 \n",
            " lstm_12 (LSTM)              (None, 100, 50)           20200     \n",
            "                                                                 \n",
            " dropout_2 (Dropout)         (None, 100, 50)           0         \n",
            "                                                                 \n",
            " lstm_13 (LSTM)              (None, 50)                20200     \n",
            "                                                                 \n",
            " dropout_3 (Dropout)         (None, 50)                0         \n",
            "                                                                 \n",
            " dense_3 (Dense)             (None, 1)                 51        \n",
            "                                                                 \n",
            "=================================================================\n",
            "Total params: 71,051\n",
            "Trainable params: 71,051\n",
            "Non-trainable params: 0\n",
            "_________________________________________________________________\n"
          ]
        }
      ]
    },
    {
      "cell_type": "code",
      "source": [
        "model.fit(X_train,y_train,validation_data=(X_test,ytest),epochs=100,batch_size=64,verbose=1)"
      ],
      "metadata": {
        "colab": {
          "base_uri": "https://localhost:8080/"
        },
        "id": "nLQFxDhNSoBO",
        "outputId": "29a467b3-1822-48f2-8f51-0c00a4d1f303"
      },
      "execution_count": null,
      "outputs": [
        {
          "output_type": "stream",
          "name": "stdout",
          "text": [
            "Epoch 1/100\n",
            "14/14 [==============================] - 18s 418ms/step - loss: 0.0289 - val_loss: 0.1487\n",
            "Epoch 2/100\n",
            "14/14 [==============================] - 4s 278ms/step - loss: 0.0066 - val_loss: 0.0468\n",
            "Epoch 3/100\n",
            "14/14 [==============================] - 4s 280ms/step - loss: 0.0024 - val_loss: 0.0056\n",
            "Epoch 4/100\n",
            "14/14 [==============================] - 4s 275ms/step - loss: 0.0020 - val_loss: 0.0073\n",
            "Epoch 5/100\n",
            "14/14 [==============================] - 4s 280ms/step - loss: 0.0017 - val_loss: 0.0051\n",
            "Epoch 6/100\n",
            "14/14 [==============================] - 4s 277ms/step - loss: 0.0014 - val_loss: 0.0082\n",
            "Epoch 7/100\n",
            "14/14 [==============================] - 4s 279ms/step - loss: 0.0014 - val_loss: 0.0157\n",
            "Epoch 8/100\n",
            "14/14 [==============================] - 4s 280ms/step - loss: 0.0018 - val_loss: 0.0117\n",
            "Epoch 9/100\n",
            "14/14 [==============================] - 4s 280ms/step - loss: 0.0015 - val_loss: 0.0064\n",
            "Epoch 10/100\n",
            "14/14 [==============================] - 4s 301ms/step - loss: 0.0016 - val_loss: 0.0158\n",
            "Epoch 11/100\n",
            "14/14 [==============================] - 4s 313ms/step - loss: 0.0014 - val_loss: 0.0154\n",
            "Epoch 12/100\n",
            "14/14 [==============================] - 4s 313ms/step - loss: 0.0014 - val_loss: 0.0138\n",
            "Epoch 13/100\n",
            "14/14 [==============================] - 4s 313ms/step - loss: 0.0014 - val_loss: 0.0168\n",
            "Epoch 14/100\n",
            "14/14 [==============================] - 4s 314ms/step - loss: 0.0014 - val_loss: 0.0157\n",
            "Epoch 15/100\n",
            "14/14 [==============================] - 4s 311ms/step - loss: 0.0012 - val_loss: 0.0125\n",
            "Epoch 16/100\n",
            "14/14 [==============================] - 4s 312ms/step - loss: 0.0015 - val_loss: 0.0221\n",
            "Epoch 17/100\n",
            "14/14 [==============================] - 4s 287ms/step - loss: 0.0012 - val_loss: 0.0185\n",
            "Epoch 18/100\n",
            "14/14 [==============================] - 4s 311ms/step - loss: 0.0012 - val_loss: 0.0180\n",
            "Epoch 19/100\n",
            "14/14 [==============================] - 4s 316ms/step - loss: 0.0012 - val_loss: 0.0194\n",
            "Epoch 20/100\n",
            "14/14 [==============================] - 4s 315ms/step - loss: 0.0011 - val_loss: 0.0189\n",
            "Epoch 21/100\n",
            "14/14 [==============================] - 5s 398ms/step - loss: 0.0011 - val_loss: 0.0187\n",
            "Epoch 22/100\n",
            "14/14 [==============================] - 4s 292ms/step - loss: 0.0011 - val_loss: 0.0212\n",
            "Epoch 23/100\n",
            "14/14 [==============================] - 5s 346ms/step - loss: 0.0012 - val_loss: 0.0233\n",
            "Epoch 24/100\n",
            "14/14 [==============================] - 4s 287ms/step - loss: 0.0013 - val_loss: 0.0148\n",
            "Epoch 25/100\n",
            "14/14 [==============================] - 4s 283ms/step - loss: 0.0013 - val_loss: 0.0189\n",
            "Epoch 26/100\n",
            "14/14 [==============================] - 4s 286ms/step - loss: 0.0012 - val_loss: 0.0190\n",
            "Epoch 27/100\n",
            "14/14 [==============================] - 4s 288ms/step - loss: 0.0012 - val_loss: 0.0184\n",
            "Epoch 28/100\n",
            "14/14 [==============================] - 4s 279ms/step - loss: 0.0012 - val_loss: 0.0208\n",
            "Epoch 29/100\n",
            "14/14 [==============================] - 4s 283ms/step - loss: 9.4808e-04 - val_loss: 0.0223\n",
            "Epoch 30/100\n",
            "14/14 [==============================] - 4s 283ms/step - loss: 9.8331e-04 - val_loss: 0.0147\n",
            "Epoch 31/100\n",
            "14/14 [==============================] - 4s 283ms/step - loss: 0.0011 - val_loss: 0.0278\n",
            "Epoch 32/100\n",
            "14/14 [==============================] - 4s 284ms/step - loss: 0.0012 - val_loss: 0.0153\n",
            "Epoch 33/100\n",
            "14/14 [==============================] - 4s 283ms/step - loss: 0.0010 - val_loss: 0.0220\n",
            "Epoch 34/100\n",
            "14/14 [==============================] - 4s 282ms/step - loss: 9.0898e-04 - val_loss: 0.0201\n",
            "Epoch 35/100\n",
            "14/14 [==============================] - 4s 277ms/step - loss: 8.9512e-04 - val_loss: 0.0175\n",
            "Epoch 36/100\n",
            "14/14 [==============================] - 4s 280ms/step - loss: 0.0011 - val_loss: 0.0188\n",
            "Epoch 37/100\n",
            "14/14 [==============================] - 4s 280ms/step - loss: 8.7596e-04 - val_loss: 0.0184\n",
            "Epoch 38/100\n",
            "14/14 [==============================] - 4s 279ms/step - loss: 9.8563e-04 - val_loss: 0.0160\n",
            "Epoch 39/100\n",
            "14/14 [==============================] - 4s 282ms/step - loss: 9.7677e-04 - val_loss: 0.0096\n",
            "Epoch 40/100\n",
            "14/14 [==============================] - 4s 283ms/step - loss: 0.0012 - val_loss: 0.0190\n",
            "Epoch 41/100\n",
            "14/14 [==============================] - 4s 282ms/step - loss: 9.8373e-04 - val_loss: 0.0190\n",
            "Epoch 42/100\n",
            "14/14 [==============================] - 4s 282ms/step - loss: 8.9053e-04 - val_loss: 0.0210\n",
            "Epoch 43/100\n",
            "14/14 [==============================] - 4s 282ms/step - loss: 9.9167e-04 - val_loss: 0.0193\n",
            "Epoch 44/100\n",
            "14/14 [==============================] - 4s 319ms/step - loss: 9.0924e-04 - val_loss: 0.0146\n",
            "Epoch 45/100\n",
            "14/14 [==============================] - 4s 315ms/step - loss: 9.7050e-04 - val_loss: 0.0211\n",
            "Epoch 46/100\n",
            "14/14 [==============================] - 4s 316ms/step - loss: 9.0028e-04 - val_loss: 0.0157\n",
            "Epoch 47/100\n",
            "14/14 [==============================] - 4s 316ms/step - loss: 9.2777e-04 - val_loss: 0.0167\n",
            "Epoch 48/100\n",
            "14/14 [==============================] - 4s 313ms/step - loss: 9.3349e-04 - val_loss: 0.0150\n",
            "Epoch 49/100\n",
            "14/14 [==============================] - 6s 413ms/step - loss: 8.1060e-04 - val_loss: 0.0088\n",
            "Epoch 50/100\n",
            "14/14 [==============================] - 4s 314ms/step - loss: 0.0010 - val_loss: 0.0179\n",
            "Epoch 51/100\n",
            "14/14 [==============================] - 4s 317ms/step - loss: 9.2558e-04 - val_loss: 0.0122\n",
            "Epoch 52/100\n",
            "14/14 [==============================] - 4s 306ms/step - loss: 9.0674e-04 - val_loss: 0.0101\n",
            "Epoch 53/100\n",
            "14/14 [==============================] - 4s 291ms/step - loss: 8.8344e-04 - val_loss: 0.0190\n",
            "Epoch 54/100\n",
            "14/14 [==============================] - 5s 374ms/step - loss: 8.9359e-04 - val_loss: 0.0150\n",
            "Epoch 55/100\n",
            "14/14 [==============================] - 4s 294ms/step - loss: 8.0466e-04 - val_loss: 0.0155\n",
            "Epoch 56/100\n",
            "14/14 [==============================] - 4s 291ms/step - loss: 8.1919e-04 - val_loss: 0.0153\n",
            "Epoch 57/100\n",
            "14/14 [==============================] - 4s 289ms/step - loss: 7.6174e-04 - val_loss: 0.0145\n",
            "Epoch 58/100\n",
            "14/14 [==============================] - 4s 286ms/step - loss: 7.2976e-04 - val_loss: 0.0171\n",
            "Epoch 59/100\n",
            "14/14 [==============================] - 4s 284ms/step - loss: 8.3817e-04 - val_loss: 0.0137\n",
            "Epoch 60/100\n",
            "14/14 [==============================] - 4s 280ms/step - loss: 0.0010 - val_loss: 0.0156\n",
            "Epoch 61/100\n",
            "14/14 [==============================] - 4s 285ms/step - loss: 0.0011 - val_loss: 0.0173\n",
            "Epoch 62/100\n",
            "14/14 [==============================] - 4s 282ms/step - loss: 9.6123e-04 - val_loss: 0.0144\n",
            "Epoch 63/100\n",
            "14/14 [==============================] - 4s 284ms/step - loss: 8.5655e-04 - val_loss: 0.0174\n",
            "Epoch 64/100\n",
            "14/14 [==============================] - 4s 282ms/step - loss: 8.1595e-04 - val_loss: 0.0112\n",
            "Epoch 65/100\n",
            "14/14 [==============================] - 4s 280ms/step - loss: 8.2069e-04 - val_loss: 0.0095\n",
            "Epoch 66/100\n",
            "14/14 [==============================] - 4s 281ms/step - loss: 8.1580e-04 - val_loss: 0.0155\n",
            "Epoch 67/100\n",
            "14/14 [==============================] - 4s 279ms/step - loss: 7.4636e-04 - val_loss: 0.0114\n",
            "Epoch 68/100\n",
            "14/14 [==============================] - 4s 281ms/step - loss: 7.4692e-04 - val_loss: 0.0175\n",
            "Epoch 69/100\n",
            "14/14 [==============================] - 5s 365ms/step - loss: 7.4310e-04 - val_loss: 0.0092\n",
            "Epoch 70/100\n",
            "14/14 [==============================] - 7s 459ms/step - loss: 9.4575e-04 - val_loss: 0.0158\n",
            "Epoch 71/100\n",
            "14/14 [==============================] - 6s 452ms/step - loss: 8.5720e-04 - val_loss: 0.0127\n",
            "Epoch 72/100\n",
            "14/14 [==============================] - 7s 543ms/step - loss: 7.2537e-04 - val_loss: 0.0143\n",
            "Epoch 73/100\n",
            "14/14 [==============================] - 7s 509ms/step - loss: 7.1308e-04 - val_loss: 0.0144\n",
            "Epoch 74/100\n",
            "14/14 [==============================] - 8s 535ms/step - loss: 7.4278e-04 - val_loss: 0.0146\n",
            "Epoch 75/100\n",
            "14/14 [==============================] - 8s 540ms/step - loss: 8.0176e-04 - val_loss: 0.0119\n",
            "Epoch 76/100\n",
            "14/14 [==============================] - 7s 537ms/step - loss: 7.4888e-04 - val_loss: 0.0094\n",
            "Epoch 77/100\n",
            "14/14 [==============================] - 9s 615ms/step - loss: 7.4552e-04 - val_loss: 0.0141\n",
            "Epoch 78/100\n",
            "14/14 [==============================] - 8s 557ms/step - loss: 7.8281e-04 - val_loss: 0.0081\n",
            "Epoch 79/100\n",
            "14/14 [==============================] - 4s 290ms/step - loss: 6.7643e-04 - val_loss: 0.0114\n",
            "Epoch 80/100\n",
            "14/14 [==============================] - 4s 290ms/step - loss: 7.2682e-04 - val_loss: 0.0191\n",
            "Epoch 81/100\n",
            "14/14 [==============================] - 4s 285ms/step - loss: 7.7385e-04 - val_loss: 0.0108\n",
            "Epoch 82/100\n",
            "14/14 [==============================] - 4s 281ms/step - loss: 8.0036e-04 - val_loss: 0.0208\n",
            "Epoch 83/100\n",
            "14/14 [==============================] - 4s 282ms/step - loss: 7.4503e-04 - val_loss: 0.0146\n",
            "Epoch 84/100\n",
            "14/14 [==============================] - 4s 280ms/step - loss: 7.4369e-04 - val_loss: 0.0081\n",
            "Epoch 85/100\n",
            "14/14 [==============================] - 4s 280ms/step - loss: 7.9898e-04 - val_loss: 0.0098\n",
            "Epoch 86/100\n",
            "14/14 [==============================] - 4s 282ms/step - loss: 7.2970e-04 - val_loss: 0.0079\n",
            "Epoch 87/100\n",
            "14/14 [==============================] - 4s 282ms/step - loss: 7.1947e-04 - val_loss: 0.0126\n",
            "Epoch 88/100\n",
            "14/14 [==============================] - 4s 280ms/step - loss: 6.7419e-04 - val_loss: 0.0089\n",
            "Epoch 89/100\n",
            "14/14 [==============================] - 4s 279ms/step - loss: 7.0323e-04 - val_loss: 0.0098\n",
            "Epoch 90/100\n",
            "14/14 [==============================] - 4s 280ms/step - loss: 7.2222e-04 - val_loss: 0.0104\n",
            "Epoch 91/100\n",
            "14/14 [==============================] - 4s 281ms/step - loss: 7.0807e-04 - val_loss: 0.0103\n",
            "Epoch 92/100\n",
            "14/14 [==============================] - 4s 281ms/step - loss: 7.0763e-04 - val_loss: 0.0098\n",
            "Epoch 93/100\n",
            "14/14 [==============================] - 4s 282ms/step - loss: 6.8274e-04 - val_loss: 0.0105\n",
            "Epoch 94/100\n",
            "14/14 [==============================] - 4s 280ms/step - loss: 6.9125e-04 - val_loss: 0.0097\n",
            "Epoch 95/100\n",
            "14/14 [==============================] - 4s 284ms/step - loss: 7.2518e-04 - val_loss: 0.0100\n",
            "Epoch 96/100\n",
            "14/14 [==============================] - 4s 281ms/step - loss: 6.8169e-04 - val_loss: 0.0113\n",
            "Epoch 97/100\n",
            "14/14 [==============================] - 4s 282ms/step - loss: 6.3053e-04 - val_loss: 0.0077\n",
            "Epoch 98/100\n",
            "14/14 [==============================] - 4s 281ms/step - loss: 6.6644e-04 - val_loss: 0.0098\n",
            "Epoch 99/100\n",
            "14/14 [==============================] - 4s 312ms/step - loss: 7.0278e-04 - val_loss: 0.0105\n",
            "Epoch 100/100\n",
            "14/14 [==============================] - 4s 313ms/step - loss: 6.5949e-04 - val_loss: 0.0098\n"
          ]
        },
        {
          "output_type": "execute_result",
          "data": {
            "text/plain": [
              "<keras.callbacks.History at 0x7f6d11c60310>"
            ]
          },
          "metadata": {},
          "execution_count": 183
        }
      ]
    },
    {
      "cell_type": "code",
      "source": [
        "import tensorflow as tf"
      ],
      "metadata": {
        "id": "sreVbuW-SoDX"
      },
      "execution_count": null,
      "outputs": []
    },
    {
      "cell_type": "code",
      "source": [
        "## Faisons la prédiction et vérifions les métriques de performance\n",
        "train_predict=model.predict(X_train)\n",
        "test_predict=model.predict(X_test)"
      ],
      "metadata": {
        "id": "zTXimbfcSoFw"
      },
      "execution_count": null,
      "outputs": []
    },
    {
      "cell_type": "code",
      "source": [
        "## Calculer les paramètres de performance RMSE\n",
        "import math\n",
        "from sklearn.metrics import mean_squared_error\n",
        "math.sqrt(mean_squared_error(y_train,train_predict))  # RMSE pour les données de Train"
      ],
      "metadata": {
        "colab": {
          "base_uri": "https://localhost:8080/"
        },
        "id": "ukTIPA2DSoIR",
        "outputId": "a1588365-da8a-4438-805c-9cc2eb7ce787"
      },
      "execution_count": null,
      "outputs": [
        {
          "output_type": "execute_result",
          "data": {
            "text/plain": [
              "0.017354239802288455"
            ]
          },
          "metadata": {},
          "execution_count": 186
        }
      ]
    },
    {
      "cell_type": "code",
      "source": [
        "### RSME pour les données de Test\n",
        "math.sqrt(mean_squared_error(ytest,test_predict))"
      ],
      "metadata": {
        "colab": {
          "base_uri": "https://localhost:8080/"
        },
        "id": "IRmOqnffSoKg",
        "outputId": "4fd566f3-29f8-473a-fc9e-2cc9cb138485"
      },
      "execution_count": null,
      "outputs": [
        {
          "output_type": "execute_result",
          "data": {
            "text/plain": [
              "0.09902399079530518"
            ]
          },
          "metadata": {},
          "execution_count": 187
        }
      ]
    },
    {
      "cell_type": "code",
      "source": [
        "## Plotting \n",
        "##prédictions de train de décalage pour le traçage\n",
        "look_back=100\n",
        "trainPredictPlot = np.empty_like(df1)\n",
        "trainPredictPlot[:, :] = np.nan\n",
        "trainPredictPlot[look_back:len(train_predict)+look_back, :] = train_predict\n",
        "# les prédictions de test de décalage pour le traçage(plotting)\n",
        "testPredictPlot = np.empty_like(df1)\n",
        "testPredictPlot[:, :] = np.nan\n",
        "testPredictPlot[len(train_predict)+(look_back*2)+1:len(df1)-1, :] = test_predict\n",
        "# plot base de référence et predictions\n",
        "plt.plot(scaler.inverse_transform(df1))\n",
        "plt.plot(scaler.inverse_transform(trainPredictPlot))\n",
        "plt.plot(scaler.inverse_transform(testPredictPlot))\n",
        "plt.show()"
      ],
      "metadata": {
        "colab": {
          "base_uri": "https://localhost:8080/",
          "height": 265
        },
        "id": "gDDOZwO_SoM2",
        "outputId": "3a52f2dd-67cc-4277-a66b-6c0f901849c2"
      },
      "execution_count": null,
      "outputs": [
        {
          "output_type": "display_data",
          "data": {
            "image/png": "[encoded data removed]",
            "text/plain": [
              "<Figure size 432x288 with 1 Axes>"
            ]
          },
          "metadata": {
            "needs_background": "light"
          }
        }
      ]
    },
    {
      "cell_type": "markdown",
      "source": [
        "### AMAZON"
      ],
      "metadata": {
        "id": "fLmVg2c7c-6X"
      }
    },
    {
      "cell_type": "code",
      "source": [
        "# Importation des données\n",
        "from google.colab import files\n",
        "data_to_load = files.upload()"
      ],
      "metadata": {
        "colab": {
          "resources": {
            "http://localhost:8080/nbextensions/google.colab/files.js": {
              "data": "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",
              "ok": true,
              "headers": [
                [
                  "content-type",
                  "application/javascript"
                ]
              ],
              "status": 200,
              "status_text": ""
            }
          },
          "base_uri": "https://localhost:8080/",
          "height": 73
        },
        "outputId": "2809593f-6b31-4e4b-95c7-da7f48de2969",
        "id": "PLx6S5f2dUL4"
      },
      "execution_count": null,
      "outputs": [
        {
          "output_type": "display_data",
          "data": {
            "text/html": [
              "\n",
              "     <input type=\"file\" id=\"files-daa1d86b-ffd8-4739-9315-7b14e37ed830\" name=\"files[]\" multiple disabled\n",
              "        style=\"border:none\" />\n",
              "     <output id=\"result-daa1d86b-ffd8-4739-9315-7b14e37ed830\">\n",
              "      Upload widget is only available when the cell has been executed in the\n",
              "      current browser session. Please rerun this cell to enable.\n",
              "      </output>\n",
              "      <script src=\"/nbextensions/google.colab/files.js\"></script> "
            ],
            "text/plain": [
              "<IPython.core.display.HTML object>"
            ]
          },
          "metadata": {}
        },
        {
          "output_type": "stream",
          "name": "stdout",
          "text": [
            "Saving AAPL.csv to AAPL (2).csv\n"
          ]
        }
      ]
    },
    {
      "cell_type": "code",
      "source": [
        "import io\n",
        "import pandas as pd\n",
        "df = pd.read_csv(io.BytesIO(data_to_load['AAPL.csv']))"
      ],
      "metadata": {
        "id": "4vpzmgI5dUL4"
      },
      "execution_count": null,
      "outputs": []
    },
    {
      "cell_type": "code",
      "source": [
        "df.head() # cours de l'action en 2015"
      ],
      "metadata": {
        "colab": {
          "base_uri": "https://localhost:8080/",
          "height": 206
        },
        "outputId": "fdbe4b5a-e26d-4e4f-c4bd-1eabbfe0b1a3",
        "id": "KmvXBoqgdUL4"
      },
      "execution_count": null,
      "outputs": [
        {
          "output_type": "execute_result",
          "data": {
            "text/html": [
              "\n",
              "  <div id=\"df-d32c0d44-1ac9-482f-b190-518ef98773fe\">\n",
              "    <div class=\"colab-df-container\">\n",
              "      <div>\n",
              "<style scoped>\n",
              "    .dataframe tbody tr th:only-of-type {\n",
              "        vertical-align: middle;\n",
              "    }\n",
              "\n",
              "    .dataframe tbody tr th {\n",
              "        vertical-align: top;\n",
              "    }\n",
              "\n",
              "    .dataframe thead th {\n",
              "        text-align: right;\n",
              "    }\n",
              "</style>\n",
              "<table border=\"1\" class=\"dataframe\">\n",
              "  <thead>\n",
              "    <tr style=\"text-align: right;\">\n",
              "      <th></th>\n",
              "      <th>Date</th>\n",
              "      <th>Open</th>\n",
              "      <th>High</th>\n",
              "      <th>Low</th>\n",
              "      <th>Close</th>\n",
              "      <th>Adj Close</th>\n",
              "      <th>Volume</th>\n",
              "    </tr>\n",
              "  </thead>\n",
              "  <tbody>\n",
              "    <tr>\n",
              "      <th>0</th>\n",
              "      <td>2015-05-27</td>\n",
              "      <td>32.584999</td>\n",
              "      <td>33.064999</td>\n",
              "      <td>32.512501</td>\n",
              "      <td>33.009998</td>\n",
              "      <td>30.129501</td>\n",
              "      <td>183332800</td>\n",
              "    </tr>\n",
              "    <tr>\n",
              "      <th>1</th>\n",
              "      <td>2015-05-28</td>\n",
              "      <td>32.965000</td>\n",
              "      <td>32.987499</td>\n",
              "      <td>32.775002</td>\n",
              "      <td>32.945000</td>\n",
              "      <td>30.070181</td>\n",
              "      <td>122933200</td>\n",
              "    </tr>\n",
              "    <tr>\n",
              "      <th>2</th>\n",
              "      <td>2015-05-29</td>\n",
              "      <td>32.807499</td>\n",
              "      <td>32.862499</td>\n",
              "      <td>32.474998</td>\n",
              "      <td>32.570000</td>\n",
              "      <td>29.727898</td>\n",
              "      <td>203538000</td>\n",
              "    </tr>\n",
              "    <tr>\n",
              "      <th>3</th>\n",
              "      <td>2015-06-01</td>\n",
              "      <td>32.570000</td>\n",
              "      <td>32.847500</td>\n",
              "      <td>32.512501</td>\n",
              "      <td>32.634998</td>\n",
              "      <td>29.787231</td>\n",
              "      <td>128451200</td>\n",
              "    </tr>\n",
              "    <tr>\n",
              "      <th>4</th>\n",
              "      <td>2015-06-02</td>\n",
              "      <td>32.465000</td>\n",
              "      <td>32.665001</td>\n",
              "      <td>32.330002</td>\n",
              "      <td>32.490002</td>\n",
              "      <td>29.654886</td>\n",
              "      <td>134670400</td>\n",
              "    </tr>\n",
              "  </tbody>\n",
              "</table>\n",
              "</div>\n",
              "      <button class=\"colab-df-convert\" onclick=\"convertToInteractive('df-d32c0d44-1ac9-482f-b190-518ef98773fe')\"\n",
              "              title=\"Convert this dataframe to an interactive table.\"\n",
              "              style=\"display:none;\">\n",
              "        \n",
              "  <svg xmlns=\"http://www.w3.org/2000/svg\" height=\"24px\"viewBox=\"0 0 24 24\"\n",
              "       width=\"24px\">\n",
              "    <path d=\"M0 0h24v24H0V0z\" fill=\"none\"/>\n",
              "    <path d=\"M18.56 5.44l.94 2.06.94-2.06 2.06-.94-2.06-.94-.94-2.06-.94 2.06-2.06.94zm-11 1L8.5 8.5l.94-2.06 2.06-.94-2.06-.94L8.5 2.5l-.94 2.06-2.06.94zm10 10l.94 2.06.94-2.06 2.06-.94-2.06-.94-.94-2.06-.94 2.06-2.06.94z\"/><path d=\"M17.41 7.96l-1.37-1.37c-.4-.4-.92-.59-1.43-.59-.52 0-1.04.2-1.43.59L10.3 9.45l-7.72 7.72c-.78.78-.78 2.05 0 2.83L4 21.41c.39.39.9.59 1.41.59.51 0 1.02-.2 1.41-.59l7.78-7.78 2.81-2.81c.8-.78.8-2.07 0-2.86zM5.41 20L4 18.59l7.72-7.72 1.47 1.35L5.41 20z\"/>\n",
              "  </svg>\n",
              "      </button>\n",
              "      \n",
              "  <style>\n",
              "    .colab-df-container {\n",
              "      display:flex;\n",
              "      flex-wrap:wrap;\n",
              "      gap: 12px;\n",
              "    }\n",
              "\n",
              "    .colab-df-convert {\n",
              "      background-color: #E8F0FE;\n",
              "      border: none;\n",
              "      border-radius: 50%;\n",
              "      cursor: pointer;\n",
              "      display: none;\n",
              "      fill: #1967D2;\n",
              "      height: 32px;\n",
              "      padding: 0 0 0 0;\n",
              "      width: 32px;\n",
              "    }\n",
              "\n",
              "    .colab-df-convert:hover {\n",
              "      background-color: #E2EBFA;\n",
              "      box-shadow: 0px 1px 2px rgba(60, 64, 67, 0.3), 0px 1px 3px 1px rgba(60, 64, 67, 0.15);\n",
              "      fill: #174EA6;\n",
              "    }\n",
              "\n",
              "    [theme=dark] .colab-df-convert {\n",
              "      background-color: #3B4455;\n",
              "      fill: #D2E3FC;\n",
              "    }\n",
              "\n",
              "    [theme=dark] .colab-df-convert:hover {\n",
              "      background-color: #434B5C;\n",
              "      box-shadow: 0px 1px 3px 1px rgba(0, 0, 0, 0.15);\n",
              "      filter: drop-shadow(0px 1px 2px rgba(0, 0, 0, 0.3));\n",
              "      fill: #FFFFFF;\n",
              "    }\n",
              "  </style>\n",
              "\n",
              "      <script>\n",
              "        const buttonEl =\n",
              "          document.querySelector('#df-d32c0d44-1ac9-482f-b190-518ef98773fe button.colab-df-convert');\n",
              "        buttonEl.style.display =\n",
              "          google.colab.kernel.accessAllowed ? 'block' : 'none';\n",
              "\n",
              "        async function convertToInteractive(key) {\n",
              "          const element = document.querySelector('#df-d32c0d44-1ac9-482f-b190-518ef98773fe');\n",
              "          const dataTable =\n",
              "            await google.colab.kernel.invokeFunction('convertToInteractive',\n",
              "                                                     [key], {});\n",
              "          if (!dataTable) return;\n",
              "\n",
              "          const docLinkHtml = 'Like what you see? Visit the ' +\n",
              "            '<a target=\"_blank\" href=https://colab.research.google.com/notebooks/data_table.ipynb>data table notebook</a>'\n",
              "            + ' to learn more about interactive tables.';\n",
              "          element.innerHTML = '';\n",
              "          dataTable['output_type'] = 'display_data';\n",
              "          await google.colab.output.renderOutput(dataTable, element);\n",
              "          const docLink = document.createElement('div');\n",
              "          docLink.innerHTML = docLinkHtml;\n",
              "          element.appendChild(docLink);\n",
              "        }\n",
              "      </script>\n",
              "    </div>\n",
              "  </div>\n",
              "  "
            ],
            "text/plain": [
              "         Date       Open       High        Low      Close  Adj Close     Volume\n",
              "0  2015-05-27  32.584999  33.064999  32.512501  33.009998  30.129501  183332800\n",
              "1  2015-05-28  32.965000  32.987499  32.775002  32.945000  30.070181  122933200\n",
              "2  2015-05-29  32.807499  32.862499  32.474998  32.570000  29.727898  203538000\n",
              "3  2015-06-01  32.570000  32.847500  32.512501  32.634998  29.787231  128451200\n",
              "4  2015-06-02  32.465000  32.665001  32.330002  32.490002  29.654886  134670400"
            ]
          },
          "metadata": {},
          "execution_count": 205
        }
      ]
    },
    {
      "cell_type": "code",
      "source": [
        "df.tail() # cours de l'action en 2020"
      ],
      "metadata": {
        "colab": {
          "base_uri": "https://localhost:8080/",
          "height": 206
        },
        "outputId": "b10ea064-0b3d-4bf1-b9c5-f81c8b209201",
        "id": "hR4rHbkxdUL4"
      },
      "execution_count": null,
      "outputs": [
        {
          "output_type": "execute_result",
          "data": {
            "text/html": [
              "\n",
              "  <div id=\"df-6d790ea2-0924-42c0-81e5-11e367b1dbd4\">\n",
              "    <div class=\"colab-df-container\">\n",
              "      <div>\n",
              "<style scoped>\n",
              "    .dataframe tbody tr th:only-of-type {\n",
              "        vertical-align: middle;\n",
              "    }\n",
              "\n",
              "    .dataframe tbody tr th {\n",
              "        vertical-align: top;\n",
              "    }\n",
              "\n",
              "    .dataframe thead th {\n",
              "        text-align: right;\n",
              "    }\n",
              "</style>\n",
              "<table border=\"1\" class=\"dataframe\">\n",
              "  <thead>\n",
              "    <tr style=\"text-align: right;\">\n",
              "      <th></th>\n",
              "      <th>Date</th>\n",
              "      <th>Open</th>\n",
              "      <th>High</th>\n",
              "      <th>Low</th>\n",
              "      <th>Close</th>\n",
              "      <th>Adj Close</th>\n",
              "      <th>Volume</th>\n",
              "    </tr>\n",
              "  </thead>\n",
              "  <tbody>\n",
              "    <tr>\n",
              "      <th>1252</th>\n",
              "      <td>2020-05-15</td>\n",
              "      <td>75.087502</td>\n",
              "      <td>76.974998</td>\n",
              "      <td>75.052498</td>\n",
              "      <td>76.927498</td>\n",
              "      <td>76.187111</td>\n",
              "      <td>166348400</td>\n",
              "    </tr>\n",
              "    <tr>\n",
              "      <th>1253</th>\n",
              "      <td>2020-05-18</td>\n",
              "      <td>78.292503</td>\n",
              "      <td>79.125000</td>\n",
              "      <td>77.580002</td>\n",
              "      <td>78.739998</td>\n",
              "      <td>77.982170</td>\n",
              "      <td>135178400</td>\n",
              "    </tr>\n",
              "    <tr>\n",
              "      <th>1254</th>\n",
              "      <td>2020-05-19</td>\n",
              "      <td>78.757500</td>\n",
              "      <td>79.629997</td>\n",
              "      <td>78.252502</td>\n",
              "      <td>78.285004</td>\n",
              "      <td>77.531563</td>\n",
              "      <td>101729600</td>\n",
              "    </tr>\n",
              "    <tr>\n",
              "      <th>1255</th>\n",
              "      <td>2020-05-20</td>\n",
              "      <td>79.169998</td>\n",
              "      <td>79.879997</td>\n",
              "      <td>79.129997</td>\n",
              "      <td>79.807503</td>\n",
              "      <td>79.039398</td>\n",
              "      <td>111504800</td>\n",
              "    </tr>\n",
              "    <tr>\n",
              "      <th>1256</th>\n",
              "      <td>2020-05-21</td>\n",
              "      <td>79.665001</td>\n",
              "      <td>80.222504</td>\n",
              "      <td>78.967499</td>\n",
              "      <td>79.212502</td>\n",
              "      <td>78.450134</td>\n",
              "      <td>102688800</td>\n",
              "    </tr>\n",
              "  </tbody>\n",
              "</table>\n",
              "</div>\n",
              "      <button class=\"colab-df-convert\" onclick=\"convertToInteractive('df-6d790ea2-0924-42c0-81e5-11e367b1dbd4')\"\n",
              "              title=\"Convert this dataframe to an interactive table.\"\n",
              "              style=\"display:none;\">\n",
              "        \n",
              "  <svg xmlns=\"http://www.w3.org/2000/svg\" height=\"24px\"viewBox=\"0 0 24 24\"\n",
              "       width=\"24px\">\n",
              "    <path d=\"M0 0h24v24H0V0z\" fill=\"none\"/>\n",
              "    <path d=\"M18.56 5.44l.94 2.06.94-2.06 2.06-.94-2.06-.94-.94-2.06-.94 2.06-2.06.94zm-11 1L8.5 8.5l.94-2.06 2.06-.94-2.06-.94L8.5 2.5l-.94 2.06-2.06.94zm10 10l.94 2.06.94-2.06 2.06-.94-2.06-.94-.94-2.06-.94 2.06-2.06.94z\"/><path d=\"M17.41 7.96l-1.37-1.37c-.4-.4-.92-.59-1.43-.59-.52 0-1.04.2-1.43.59L10.3 9.45l-7.72 7.72c-.78.78-.78 2.05 0 2.83L4 21.41c.39.39.9.59 1.41.59.51 0 1.02-.2 1.41-.59l7.78-7.78 2.81-2.81c.8-.78.8-2.07 0-2.86zM5.41 20L4 18.59l7.72-7.72 1.47 1.35L5.41 20z\"/>\n",
              "  </svg>\n",
              "      </button>\n",
              "      \n",
              "  <style>\n",
              "    .colab-df-container {\n",
              "      display:flex;\n",
              "      flex-wrap:wrap;\n",
              "      gap: 12px;\n",
              "    }\n",
              "\n",
              "    .colab-df-convert {\n",
              "      background-color: #E8F0FE;\n",
              "      border: none;\n",
              "      border-radius: 50%;\n",
              "      cursor: pointer;\n",
              "      display: none;\n",
              "      fill: #1967D2;\n",
              "      height: 32px;\n",
              "      padding: 0 0 0 0;\n",
              "      width: 32px;\n",
              "    }\n",
              "\n",
              "    .colab-df-convert:hover {\n",
              "      background-color: #E2EBFA;\n",
              "      box-shadow: 0px 1px 2px rgba(60, 64, 67, 0.3), 0px 1px 3px 1px rgba(60, 64, 67, 0.15);\n",
              "      fill: #174EA6;\n",
              "    }\n",
              "\n",
              "    [theme=dark] .colab-df-convert {\n",
              "      background-color: #3B4455;\n",
              "      fill: #D2E3FC;\n",
              "    }\n",
              "\n",
              "    [theme=dark] .colab-df-convert:hover {\n",
              "      background-color: #434B5C;\n",
              "      box-shadow: 0px 1px 3px 1px rgba(0, 0, 0, 0.15);\n",
              "      filter: drop-shadow(0px 1px 2px rgba(0, 0, 0, 0.3));\n",
              "      fill: #FFFFFF;\n",
              "    }\n",
              "  </style>\n",
              "\n",
              "      <script>\n",
              "        const buttonEl =\n",
              "          document.querySelector('#df-6d790ea2-0924-42c0-81e5-11e367b1dbd4 button.colab-df-convert');\n",
              "        buttonEl.style.display =\n",
              "          google.colab.kernel.accessAllowed ? 'block' : 'none';\n",
              "\n",
              "        async function convertToInteractive(key) {\n",
              "          const element = document.querySelector('#df-6d790ea2-0924-42c0-81e5-11e367b1dbd4');\n",
              "          const dataTable =\n",
              "            await google.colab.kernel.invokeFunction('convertToInteractive',\n",
              "                                                     [key], {});\n",
              "          if (!dataTable) return;\n",
              "\n",
              "          const docLinkHtml = 'Like what you see? Visit the ' +\n",
              "            '<a target=\"_blank\" href=https://colab.research.google.com/notebooks/data_table.ipynb>data table notebook</a>'\n",
              "            + ' to learn more about interactive tables.';\n",
              "          element.innerHTML = '';\n",
              "          dataTable['output_type'] = 'display_data';\n",
              "          await google.colab.output.renderOutput(dataTable, element);\n",
              "          const docLink = document.createElement('div');\n",
              "          docLink.innerHTML = docLinkHtml;\n",
              "          element.appendChild(docLink);\n",
              "        }\n",
              "      </script>\n",
              "    </div>\n",
              "  </div>\n",
              "  "
            ],
            "text/plain": [
              "            Date       Open       High  ...      Close  Adj Close     Volume\n",
              "1252  2020-05-15  75.087502  76.974998  ...  76.927498  76.187111  166348400\n",
              "1253  2020-05-18  78.292503  79.125000  ...  78.739998  77.982170  135178400\n",
              "1254  2020-05-19  78.757500  79.629997  ...  78.285004  77.531563  101729600\n",
              "1255  2020-05-20  79.169998  79.879997  ...  79.807503  79.039398  111504800\n",
              "1256  2020-05-21  79.665001  80.222504  ...  79.212502  78.450134  102688800\n",
              "\n",
              "[5 rows x 7 columns]"
            ]
          },
          "metadata": {},
          "execution_count": 206
        }
      ]
    },
    {
      "cell_type": "code",
      "source": [
        "# Affichage de prix de fermeture journalier\n",
        "df1=df.reset_index()['Close']\n",
        "df1"
      ],
      "metadata": {
        "colab": {
          "base_uri": "https://localhost:8080/"
        },
        "outputId": "ee56201a-ec73-43b2-8e47-68907ae35b62",
        "id": "7l56vTAIdUL5"
      },
      "execution_count": null,
      "outputs": [
        {
          "output_type": "execute_result",
          "data": {
            "text/plain": [
              "0       33.009998\n",
              "1       32.945000\n",
              "2       32.570000\n",
              "3       32.634998\n",
              "4       32.490002\n",
              "          ...    \n",
              "1252    76.927498\n",
              "1253    78.739998\n",
              "1254    78.285004\n",
              "1255    79.807503\n",
              "1256    79.212502\n",
              "Name: Close, Length: 1257, dtype: float64"
            ]
          },
          "metadata": {},
          "execution_count": 207
        }
      ]
    },
    {
      "cell_type": "code",
      "source": [
        "df1.isnull().values.any()"
      ],
      "metadata": {
        "colab": {
          "base_uri": "https://localhost:8080/"
        },
        "outputId": "72c93cb5-7141-4825-e16c-7c1773288709",
        "id": "_tifkKtidUL5"
      },
      "execution_count": null,
      "outputs": [
        {
          "output_type": "execute_result",
          "data": {
            "text/plain": [
              "False"
            ]
          },
          "metadata": {},
          "execution_count": 208
        }
      ]
    },
    {
      "cell_type": "code",
      "source": [
        "# Visualisation de variable close en fonction de date\n",
        "import matplotlib.pyplot as plt\n",
        "plt.plot(df1)"
      ],
      "metadata": {
        "colab": {
          "base_uri": "https://localhost:8080/",
          "height": 282
        },
        "outputId": "db0e13d3-f650-4c58-a0ce-44a9b53c3cd0",
        "id": "7DgZ5wJCdUL5"
      },
      "execution_count": null,
      "outputs": [
        {
          "output_type": "execute_result",
          "data": {
            "text/plain": [
              "[<matplotlib.lines.Line2D at 0x7f6d0e6c3350>]"
            ]
          },
          "metadata": {},
          "execution_count": 209
        },
        {
          "output_type": "display_data",
          "data": {
            "image/png": "[encoded data removed]",
            "text/plain": [
              "<Figure size 432x288 with 1 Axes>"
            ]
          },
          "metadata": {
            "needs_background": "light"
          }
        }
      ]
    },
    {
      "cell_type": "code",
      "source": [
        "min1 , max1 = min(df1),max(df1)\n",
        "min1 , max1"
      ],
      "metadata": {
        "colab": {
          "base_uri": "https://localhost:8080/"
        },
        "outputId": "1502fb87-dbc5-49a9-97d5-3abd087641f4",
        "id": "35W5dzX1dUL5"
      },
      "execution_count": null,
      "outputs": [
        {
          "output_type": "execute_result",
          "data": {
            "text/plain": [
              "(482.07000700000003, 3531.4499509999996)"
            ]
          },
          "metadata": {},
          "execution_count": 109
        }
      ]
    },
    {
      "cell_type": "markdown",
      "source": [
        "# Pre-processing"
      ],
      "metadata": {
        "id": "-VDLG6KidUL5"
      }
    },
    {
      "cell_type": "code",
      "source": [
        "#On applique le scaler MinMax.\n",
        "import numpy as np\n",
        "from sklearn.preprocessing import MinMaxScaler # importation à partir de bibliothéque de pre-processing de scikit learn, la méthode MinMaxScaler\n",
        "scaler=MinMaxScaler(feature_range=(0,1)) # création d'une fonction de normalisation\n",
        "df1=scaler.fit_transform(np.array(df1).reshape(-1,1)) # appliquer la normalisation sur df1 tout en créant une nouvelle matrice à la place de df1 précédente "
      ],
      "metadata": {
        "id": "Nn9liv0WdUL5"
      },
      "execution_count": null,
      "outputs": []
    },
    {
      "cell_type": "code",
      "source": [
        "df1.shape"
      ],
      "metadata": {
        "colab": {
          "base_uri": "https://localhost:8080/"
        },
        "outputId": "faee8ad2-ccd7-4b2b-8bbf-f72d6299db25",
        "id": "BDlcPkT0dUL5"
      },
      "execution_count": null,
      "outputs": [
        {
          "output_type": "execute_result",
          "data": {
            "text/plain": [
              "(1259, 1)"
            ]
          },
          "metadata": {},
          "execution_count": 111
        }
      ]
    },
    {
      "cell_type": "code",
      "source": [
        "training_size=int(len(df1)*0.75)\n",
        "test_size=len(df1)-training_size\n",
        "train_data,test_data=df1[0:training_size,:],df1[training_size:len(df1),:1]"
      ],
      "metadata": {
        "id": "M_2ha_QLdUL5"
      },
      "execution_count": null,
      "outputs": []
    },
    {
      "cell_type": "code",
      "source": [
        "import numpy as np\n",
        "def create_dataset(dataset, time_step=1):\n",
        "\tdataX, dataY = [], []\n",
        "\tfor i in range(len(dataset)-time_step-1):\n",
        "\t\ta = dataset[i:(i+time_step), 0]   ###i=0, 0,1,2,3-----99   100 \n",
        "\t\tdataX.append(a)\n",
        "\t\tdataY.append(dataset[i + time_step, 0])\n",
        "\treturn np.array(dataX), np.array(dataY)"
      ],
      "metadata": {
        "id": "3p2AIjo-dUL6"
      },
      "execution_count": null,
      "outputs": []
    },
    {
      "cell_type": "code",
      "source": [
        "time_step = 100\n",
        "X_train, y_train = create_dataset(train_data, time_step)\n",
        "X_test, ytest = create_dataset(test_data, time_step)"
      ],
      "metadata": {
        "id": "Rbp3rfCEdUL6"
      },
      "execution_count": null,
      "outputs": []
    },
    {
      "cell_type": "code",
      "source": [
        "X_train.shape, y_train.shape, X_test.shape, ytest.shape"
      ],
      "metadata": {
        "colab": {
          "base_uri": "https://localhost:8080/"
        },
        "outputId": "83dc0489-90db-4e9c-9a91-2356c03310e9",
        "id": "7aDcnqZldUL6"
      },
      "execution_count": null,
      "outputs": [
        {
          "output_type": "execute_result",
          "data": {
            "text/plain": [
              "((843, 100), (843,), (214, 100), (214,))"
            ]
          },
          "metadata": {},
          "execution_count": 115
        }
      ]
    },
    {
      "cell_type": "code",
      "source": [
        "# reshape l'entrée pour qu'elle soit [samples, time steps, features] ce qui est nécessaire pour les LSTM.\n",
        "X_train =X_train.reshape(X_train.shape[0],X_train.shape[1] , 1)\n",
        "X_test = X_test.reshape(X_test.shape[0],X_test.shape[1] , 1)"
      ],
      "metadata": {
        "id": "bi9G8OGmdjD7"
      },
      "execution_count": null,
      "outputs": []
    },
    {
      "cell_type": "code",
      "source": [
        "model=Sequential()\n",
        "#Ajout de la première couche LSTM et de la régularisation Dropout.\n",
        "model.add(LSTM(50,return_sequences=True,input_shape=(100,1)))\n",
        "model.add(Dropout(0.2))\n",
        "# Ajout d'une deuxième couche LSTM et d'une régularisation Dropout.\n",
        "model.add(LSTM(50,return_sequences=True))\n",
        "model.add(Dropout(0.2))\n",
        "# Ajout d'une troisième couche LSTM et d'une régularisation Dropout.\n",
        "model.add(LSTM(50, return_sequences = True))\n",
        "model.add(Dropout(0.2))\n",
        "# Ajout de la couche de sortie(Output Layer)\n",
        "model.add(Dense(1))\n",
        "# Compiler le RNN (LSTM)\n",
        "model.compile(loss='mean_squared_error',optimizer='adam')"
      ],
      "metadata": {
        "id": "rQryf0PhdjD8"
      },
      "execution_count": null,
      "outputs": []
    },
    {
      "cell_type": "code",
      "source": [
        "model.summary()"
      ],
      "metadata": {
        "colab": {
          "base_uri": "https://localhost:8080/"
        },
        "outputId": "755b18ef-fec0-408a-dcef-3f0c73c90fce",
        "id": "uNE1naKJdjD9"
      },
      "execution_count": null,
      "outputs": [
        {
          "output_type": "stream",
          "name": "stdout",
          "text": [
            "Model: \"sequential_4\"\n",
            "_________________________________________________________________\n",
            " Layer (type)                Output Shape              Param #   \n",
            "=================================================================\n",
            " lstm_10 (LSTM)              (None, 100, 50)           10400     \n",
            "                                                                 \n",
            " dropout (Dropout)           (None, 100, 50)           0         \n",
            "                                                                 \n",
            " lstm_11 (LSTM)              (None, 100, 50)           20200     \n",
            "                                                                 \n",
            " dropout_1 (Dropout)         (None, 100, 50)           0         \n",
            "                                                                 \n",
            " lstm_12 (LSTM)              (None, 100, 50)           20200     \n",
            "                                                                 \n",
            " dropout_2 (Dropout)         (None, 100, 50)           0         \n",
            "                                                                 \n",
            " lstm_13 (LSTM)              (None, 50)                20200     \n",
            "                                                                 \n",
            " dropout_3 (Dropout)         (None, 50)                0         \n",
            "                                                                 \n",
            " dense_3 (Dense)             (None, 1)                 51        \n",
            "                                                                 \n",
            "=================================================================\n",
            "Total params: 71,051\n",
            "Trainable params: 71,051\n",
            "Non-trainable params: 0\n",
            "_________________________________________________________________\n"
          ]
        }
      ]
    },
    {
      "cell_type": "code",
      "source": [
        "model.fit(X_train,y_train,validation_data=(X_test,ytest),epochs=100,batch_size=64,verbose=1)"
      ],
      "metadata": {
        "colab": {
          "base_uri": "https://localhost:8080/"
        },
        "outputId": "29a467b3-1822-48f2-8f51-0c00a4d1f303",
        "id": "4eJkzI8idjD9"
      },
      "execution_count": null,
      "outputs": [
        {
          "output_type": "stream",
          "name": "stdout",
          "text": [
            "Epoch 1/100\n",
            "14/14 [==============================] - 18s 418ms/step - loss: 0.0289 - val_loss: 0.1487\n",
            "Epoch 2/100\n",
            "14/14 [==============================] - 4s 278ms/step - loss: 0.0066 - val_loss: 0.0468\n",
            "Epoch 3/100\n",
            "14/14 [==============================] - 4s 280ms/step - loss: 0.0024 - val_loss: 0.0056\n",
            "Epoch 4/100\n",
            "14/14 [==============================] - 4s 275ms/step - loss: 0.0020 - val_loss: 0.0073\n",
            "Epoch 5/100\n",
            "14/14 [==============================] - 4s 280ms/step - loss: 0.0017 - val_loss: 0.0051\n",
            "Epoch 6/100\n",
            "14/14 [==============================] - 4s 277ms/step - loss: 0.0014 - val_loss: 0.0082\n",
            "Epoch 7/100\n",
            "14/14 [==============================] - 4s 279ms/step - loss: 0.0014 - val_loss: 0.0157\n",
            "Epoch 8/100\n",
            "14/14 [==============================] - 4s 280ms/step - loss: 0.0018 - val_loss: 0.0117\n",
            "Epoch 9/100\n",
            "14/14 [==============================] - 4s 280ms/step - loss: 0.0015 - val_loss: 0.0064\n",
            "Epoch 10/100\n",
            "14/14 [==============================] - 4s 301ms/step - loss: 0.0016 - val_loss: 0.0158\n",
            "Epoch 11/100\n",
            "14/14 [==============================] - 4s 313ms/step - loss: 0.0014 - val_loss: 0.0154\n",
            "Epoch 12/100\n",
            "14/14 [==============================] - 4s 313ms/step - loss: 0.0014 - val_loss: 0.0138\n",
            "Epoch 13/100\n",
            "14/14 [==============================] - 4s 313ms/step - loss: 0.0014 - val_loss: 0.0168\n",
            "Epoch 14/100\n",
            "14/14 [==============================] - 4s 314ms/step - loss: 0.0014 - val_loss: 0.0157\n",
            "Epoch 15/100\n",
            "14/14 [==============================] - 4s 311ms/step - loss: 0.0012 - val_loss: 0.0125\n",
            "Epoch 16/100\n",
            "14/14 [==============================] - 4s 312ms/step - loss: 0.0015 - val_loss: 0.0221\n",
            "Epoch 17/100\n",
            "14/14 [==============================] - 4s 287ms/step - loss: 0.0012 - val_loss: 0.0185\n",
            "Epoch 18/100\n",
            "14/14 [==============================] - 4s 311ms/step - loss: 0.0012 - val_loss: 0.0180\n",
            "Epoch 19/100\n",
            "14/14 [==============================] - 4s 316ms/step - loss: 0.0012 - val_loss: 0.0194\n",
            "Epoch 20/100\n",
            "14/14 [==============================] - 4s 315ms/step - loss: 0.0011 - val_loss: 0.0189\n",
            "Epoch 21/100\n",
            "14/14 [==============================] - 5s 398ms/step - loss: 0.0011 - val_loss: 0.0187\n",
            "Epoch 22/100\n",
            "14/14 [==============================] - 4s 292ms/step - loss: 0.0011 - val_loss: 0.0212\n",
            "Epoch 23/100\n",
            "14/14 [==============================] - 5s 346ms/step - loss: 0.0012 - val_loss: 0.0233\n",
            "Epoch 24/100\n",
            "14/14 [==============================] - 4s 287ms/step - loss: 0.0013 - val_loss: 0.0148\n",
            "Epoch 25/100\n",
            "14/14 [==============================] - 4s 283ms/step - loss: 0.0013 - val_loss: 0.0189\n",
            "Epoch 26/100\n",
            "14/14 [==============================] - 4s 286ms/step - loss: 0.0012 - val_loss: 0.0190\n",
            "Epoch 27/100\n",
            "14/14 [==============================] - 4s 288ms/step - loss: 0.0012 - val_loss: 0.0184\n",
            "Epoch 28/100\n",
            "14/14 [==============================] - 4s 279ms/step - loss: 0.0012 - val_loss: 0.0208\n",
            "Epoch 29/100\n",
            "14/14 [==============================] - 4s 283ms/step - loss: 9.4808e-04 - val_loss: 0.0223\n",
            "Epoch 30/100\n",
            "14/14 [==============================] - 4s 283ms/step - loss: 9.8331e-04 - val_loss: 0.0147\n",
            "Epoch 31/100\n",
            "14/14 [==============================] - 4s 283ms/step - loss: 0.0011 - val_loss: 0.0278\n",
            "Epoch 32/100\n",
            "14/14 [==============================] - 4s 284ms/step - loss: 0.0012 - val_loss: 0.0153\n",
            "Epoch 33/100\n",
            "14/14 [==============================] - 4s 283ms/step - loss: 0.0010 - val_loss: 0.0220\n",
            "Epoch 34/100\n",
            "14/14 [==============================] - 4s 282ms/step - loss: 9.0898e-04 - val_loss: 0.0201\n",
            "Epoch 35/100\n",
            "14/14 [==============================] - 4s 277ms/step - loss: 8.9512e-04 - val_loss: 0.0175\n",
            "Epoch 36/100\n",
            "14/14 [==============================] - 4s 280ms/step - loss: 0.0011 - val_loss: 0.0188\n",
            "Epoch 37/100\n",
            "14/14 [==============================] - 4s 280ms/step - loss: 8.7596e-04 - val_loss: 0.0184\n",
            "Epoch 38/100\n",
            "14/14 [==============================] - 4s 279ms/step - loss: 9.8563e-04 - val_loss: 0.0160\n",
            "Epoch 39/100\n",
            "14/14 [==============================] - 4s 282ms/step - loss: 9.7677e-04 - val_loss: 0.0096\n",
            "Epoch 40/100\n",
            "14/14 [==============================] - 4s 283ms/step - loss: 0.0012 - val_loss: 0.0190\n",
            "Epoch 41/100\n",
            "14/14 [==============================] - 4s 282ms/step - loss: 9.8373e-04 - val_loss: 0.0190\n",
            "Epoch 42/100\n",
            "14/14 [==============================] - 4s 282ms/step - loss: 8.9053e-04 - val_loss: 0.0210\n",
            "Epoch 43/100\n",
            "14/14 [==============================] - 4s 282ms/step - loss: 9.9167e-04 - val_loss: 0.0193\n",
            "Epoch 44/100\n",
            "14/14 [==============================] - 4s 319ms/step - loss: 9.0924e-04 - val_loss: 0.0146\n",
            "Epoch 45/100\n",
            "14/14 [==============================] - 4s 315ms/step - loss: 9.7050e-04 - val_loss: 0.0211\n",
            "Epoch 46/100\n",
            "14/14 [==============================] - 4s 316ms/step - loss: 9.0028e-04 - val_loss: 0.0157\n",
            "Epoch 47/100\n",
            "14/14 [==============================] - 4s 316ms/step - loss: 9.2777e-04 - val_loss: 0.0167\n",
            "Epoch 48/100\n",
            "14/14 [==============================] - 4s 313ms/step - loss: 9.3349e-04 - val_loss: 0.0150\n",
            "Epoch 49/100\n",
            "14/14 [==============================] - 6s 413ms/step - loss: 8.1060e-04 - val_loss: 0.0088\n",
            "Epoch 50/100\n",
            "14/14 [==============================] - 4s 314ms/step - loss: 0.0010 - val_loss: 0.0179\n",
            "Epoch 51/100\n",
            "14/14 [==============================] - 4s 317ms/step - loss: 9.2558e-04 - val_loss: 0.0122\n",
            "Epoch 52/100\n",
            "14/14 [==============================] - 4s 306ms/step - loss: 9.0674e-04 - val_loss: 0.0101\n",
            "Epoch 53/100\n",
            "14/14 [==============================] - 4s 291ms/step - loss: 8.8344e-04 - val_loss: 0.0190\n",
            "Epoch 54/100\n",
            "14/14 [==============================] - 5s 374ms/step - loss: 8.9359e-04 - val_loss: 0.0150\n",
            "Epoch 55/100\n",
            "14/14 [==============================] - 4s 294ms/step - loss: 8.0466e-04 - val_loss: 0.0155\n",
            "Epoch 56/100\n",
            "14/14 [==============================] - 4s 291ms/step - loss: 8.1919e-04 - val_loss: 0.0153\n",
            "Epoch 57/100\n",
            "14/14 [==============================] - 4s 289ms/step - loss: 7.6174e-04 - val_loss: 0.0145\n",
            "Epoch 58/100\n",
            "14/14 [==============================] - 4s 286ms/step - loss: 7.2976e-04 - val_loss: 0.0171\n",
            "Epoch 59/100\n",
            "14/14 [==============================] - 4s 284ms/step - loss: 8.3817e-04 - val_loss: 0.0137\n",
            "Epoch 60/100\n",
            "14/14 [==============================] - 4s 280ms/step - loss: 0.0010 - val_loss: 0.0156\n",
            "Epoch 61/100\n",
            "14/14 [==============================] - 4s 285ms/step - loss: 0.0011 - val_loss: 0.0173\n",
            "Epoch 62/100\n",
            "14/14 [==============================] - 4s 282ms/step - loss: 9.6123e-04 - val_loss: 0.0144\n",
            "Epoch 63/100\n",
            "14/14 [==============================] - 4s 284ms/step - loss: 8.5655e-04 - val_loss: 0.0174\n",
            "Epoch 64/100\n",
            "14/14 [==============================] - 4s 282ms/step - loss: 8.1595e-04 - val_loss: 0.0112\n",
            "Epoch 65/100\n",
            "14/14 [==============================] - 4s 280ms/step - loss: 8.2069e-04 - val_loss: 0.0095\n",
            "Epoch 66/100\n",
            "14/14 [==============================] - 4s 281ms/step - loss: 8.1580e-04 - val_loss: 0.0155\n",
            "Epoch 67/100\n",
            "14/14 [==============================] - 4s 279ms/step - loss: 7.4636e-04 - val_loss: 0.0114\n",
            "Epoch 68/100\n",
            "14/14 [==============================] - 4s 281ms/step - loss: 7.4692e-04 - val_loss: 0.0175\n",
            "Epoch 69/100\n",
            "14/14 [==============================] - 5s 365ms/step - loss: 7.4310e-04 - val_loss: 0.0092\n",
            "Epoch 70/100\n",
            "14/14 [==============================] - 7s 459ms/step - loss: 9.4575e-04 - val_loss: 0.0158\n",
            "Epoch 71/100\n",
            "14/14 [==============================] - 6s 452ms/step - loss: 8.5720e-04 - val_loss: 0.0127\n",
            "Epoch 72/100\n",
            "14/14 [==============================] - 7s 543ms/step - loss: 7.2537e-04 - val_loss: 0.0143\n",
            "Epoch 73/100\n",
            "14/14 [==============================] - 7s 509ms/step - loss: 7.1308e-04 - val_loss: 0.0144\n",
            "Epoch 74/100\n",
            "14/14 [==============================] - 8s 535ms/step - loss: 7.4278e-04 - val_loss: 0.0146\n",
            "Epoch 75/100\n",
            "14/14 [==============================] - 8s 540ms/step - loss: 8.0176e-04 - val_loss: 0.0119\n",
            "Epoch 76/100\n",
            "14/14 [==============================] - 7s 537ms/step - loss: 7.4888e-04 - val_loss: 0.0094\n",
            "Epoch 77/100\n",
            "14/14 [==============================] - 9s 615ms/step - loss: 7.4552e-04 - val_loss: 0.0141\n",
            "Epoch 78/100\n",
            "14/14 [==============================] - 8s 557ms/step - loss: 7.8281e-04 - val_loss: 0.0081\n",
            "Epoch 79/100\n",
            "14/14 [==============================] - 4s 290ms/step - loss: 6.7643e-04 - val_loss: 0.0114\n",
            "Epoch 80/100\n",
            "14/14 [==============================] - 4s 290ms/step - loss: 7.2682e-04 - val_loss: 0.0191\n",
            "Epoch 81/100\n",
            "14/14 [==============================] - 4s 285ms/step - loss: 7.7385e-04 - val_loss: 0.0108\n",
            "Epoch 82/100\n",
            "14/14 [==============================] - 4s 281ms/step - loss: 8.0036e-04 - val_loss: 0.0208\n",
            "Epoch 83/100\n",
            "14/14 [==============================] - 4s 282ms/step - loss: 7.4503e-04 - val_loss: 0.0146\n",
            "Epoch 84/100\n",
            "14/14 [==============================] - 4s 280ms/step - loss: 7.4369e-04 - val_loss: 0.0081\n",
            "Epoch 85/100\n",
            "14/14 [==============================] - 4s 280ms/step - loss: 7.9898e-04 - val_loss: 0.0098\n",
            "Epoch 86/100\n",
            "14/14 [==============================] - 4s 282ms/step - loss: 7.2970e-04 - val_loss: 0.0079\n",
            "Epoch 87/100\n",
            "14/14 [==============================] - 4s 282ms/step - loss: 7.1947e-04 - val_loss: 0.0126\n",
            "Epoch 88/100\n",
            "14/14 [==============================] - 4s 280ms/step - loss: 6.7419e-04 - val_loss: 0.0089\n",
            "Epoch 89/100\n",
            "14/14 [==============================] - 4s 279ms/step - loss: 7.0323e-04 - val_loss: 0.0098\n",
            "Epoch 90/100\n",
            "14/14 [==============================] - 4s 280ms/step - loss: 7.2222e-04 - val_loss: 0.0104\n",
            "Epoch 91/100\n",
            "14/14 [==============================] - 4s 281ms/step - loss: 7.0807e-04 - val_loss: 0.0103\n",
            "Epoch 92/100\n",
            "14/14 [==============================] - 4s 281ms/step - loss: 7.0763e-04 - val_loss: 0.0098\n",
            "Epoch 93/100\n",
            "14/14 [==============================] - 4s 282ms/step - loss: 6.8274e-04 - val_loss: 0.0105\n",
            "Epoch 94/100\n",
            "14/14 [==============================] - 4s 280ms/step - loss: 6.9125e-04 - val_loss: 0.0097\n",
            "Epoch 95/100\n",
            "14/14 [==============================] - 4s 284ms/step - loss: 7.2518e-04 - val_loss: 0.0100\n",
            "Epoch 96/100\n",
            "14/14 [==============================] - 4s 281ms/step - loss: 6.8169e-04 - val_loss: 0.0113\n",
            "Epoch 97/100\n",
            "14/14 [==============================] - 4s 282ms/step - loss: 6.3053e-04 - val_loss: 0.0077\n",
            "Epoch 98/100\n",
            "14/14 [==============================] - 4s 281ms/step - loss: 6.6644e-04 - val_loss: 0.0098\n",
            "Epoch 99/100\n",
            "14/14 [==============================] - 4s 312ms/step - loss: 7.0278e-04 - val_loss: 0.0105\n",
            "Epoch 100/100\n",
            "14/14 [==============================] - 4s 313ms/step - loss: 6.5949e-04 - val_loss: 0.0098\n"
          ]
        },
        {
          "output_type": "execute_result",
          "data": {
            "text/plain": [
              "<keras.callbacks.History at 0x7f6d11c60310>"
            ]
          },
          "metadata": {},
          "execution_count": 183
        }
      ]
    },
    {
      "cell_type": "code",
      "source": [
        "import tensorflow as tf"
      ],
      "metadata": {
        "id": "6jqFu-zxdjD-"
      },
      "execution_count": null,
      "outputs": []
    },
    {
      "cell_type": "code",
      "source": [
        "## Faisons la prédiction et vérifions les métriques de performance\n",
        "train_predict=model.predict(X_train)\n",
        "test_predict=model.predict(X_test)"
      ],
      "metadata": {
        "id": "oS2j90pidjD-"
      },
      "execution_count": null,
      "outputs": []
    },
    {
      "cell_type": "code",
      "source": [
        "## Calculer les paramètres de performance RMSE\n",
        "import math\n",
        "from sklearn.metrics import mean_squared_error\n",
        "math.sqrt(mean_squared_error(y_train,train_predict))  # RMSE pour les données de Train"
      ],
      "metadata": {
        "colab": {
          "base_uri": "https://localhost:8080/"
        },
        "outputId": "a1588365-da8a-4438-805c-9cc2eb7ce787",
        "id": "GN4uU7i1djD-"
      },
      "execution_count": null,
      "outputs": [
        {
          "output_type": "execute_result",
          "data": {
            "text/plain": [
              "0.017354239802288455"
            ]
          },
          "metadata": {},
          "execution_count": 186
        }
      ]
    },
    {
      "cell_type": "code",
      "source": [
        "### RSME pour les données de Test\n",
        "math.sqrt(mean_squared_error(ytest,test_predict))"
      ],
      "metadata": {
        "colab": {
          "base_uri": "https://localhost:8080/"
        },
        "outputId": "4fd566f3-29f8-473a-fc9e-2cc9cb138485",
        "id": "AN6czsildjD_"
      },
      "execution_count": null,
      "outputs": [
        {
          "output_type": "execute_result",
          "data": {
            "text/plain": [
              "0.09902399079530518"
            ]
          },
          "metadata": {},
          "execution_count": 187
        }
      ]
    },
    {
      "cell_type": "code",
      "source": [
        "## Plotting \n",
        "##prédictions de train de décalage pour le traçage\n",
        "look_back=100\n",
        "trainPredictPlot = np.empty_like(df1)\n",
        "trainPredictPlot[:, :] = np.nan\n",
        "trainPredictPlot[look_back:len(train_predict)+look_back, :] = train_predict\n",
        "# les prédictions de test de décalage pour le traçage(plotting)\n",
        "testPredictPlot = np.empty_like(df1)\n",
        "testPredictPlot[:, :] = np.nan\n",
        "testPredictPlot[len(train_predict)+(look_back*2)+1:len(df1)-1, :] = test_predict\n",
        "# plot base de référence et predictions\n",
        "plt.plot(scaler.inverse_transform(df1))\n",
        "plt.plot(scaler.inverse_transform(trainPredictPlot))\n",
        "plt.plot(scaler.inverse_transform(testPredictPlot))\n",
        "plt.show()"
      ],
      "metadata": {
        "colab": {
          "base_uri": "https://localhost:8080/",
          "height": 265
        },
        "outputId": "3a52f2dd-67cc-4277-a66b-6c0f901849c2",
        "id": "ebntLNBMdjD_"
      },
      "execution_count": null,
      "outputs": [
        {
          "output_type": "display_data",
          "data": {
            "image/png": "[encoded data removed]",
            "text/plain": [
              "<Figure size 432x288 with 1 Axes>"
            ]
          },
          "metadata": {
            "needs_background": "light"
          }
        }
      ]
    },
    {
      "cell_type": "markdown",
      "source": [
        "# Multivariable LSTM using 4 features to predict \"open\" price for AMAZON"
      ],
      "metadata": {
        "id": "DHNsksMEgI6a"
      }
    },
    {
      "cell_type": "code",
      "source": [
        "from sklearn.preprocessing import StandardScaler\n",
        "import seaborn as sns"
      ],
      "metadata": {
        "id": "2gE6q0m-hTFu"
      },
      "execution_count": 1,
      "outputs": []
    },
    {
      "cell_type": "code",
      "source": [
        "from google.colab import files\n",
        "data_to_load = files.upload()"
      ],
      "metadata": {
        "colab": {
          "resources": {
            "http://localhost:8080/nbextensions/google.colab/files.js": {
              "data": "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",
              "ok": true,
              "headers": [
                [
                  "content-type",
                  "application/javascript"
                ]
              ],
              "status": 200,
              "status_text": ""
            }
          },
          "base_uri": "https://localhost:8080/",
          "height": 73
        },
        "id": "28xdsd-tga6K",
        "outputId": "0802ed04-ab79-489a-ad7e-a3480d690938"
      },
      "execution_count": 2,
      "outputs": [
        {
          "output_type": "display_data",
          "data": {
            "text/html": [
              "\n",
              "     <input type=\"file\" id=\"files-4966d192-f990-48eb-957d-742c996a9c58\" name=\"files[]\" multiple disabled\n",
              "        style=\"border:none\" />\n",
              "     <output id=\"result-4966d192-f990-48eb-957d-742c996a9c58\">\n",
              "      Upload widget is only available when the cell has been executed in the\n",
              "      current browser session. Please rerun this cell to enable.\n",
              "      </output>\n",
              "      <script src=\"/nbextensions/google.colab/files.js\"></script> "
            ],
            "text/plain": [
              "<IPython.core.display.HTML object>"
            ]
          },
          "metadata": {}
        },
        {
          "output_type": "stream",
          "name": "stdout",
          "text": [
            "Saving AMZN.csv to AMZN.csv\n"
          ]
        }
      ]
    },
    {
      "cell_type": "code",
      "source": [
        "import io\n",
        "import pandas as pd\n",
        "df = pd.read_csv(io.BytesIO(data_to_load['AMZN.csv']))"
      ],
      "metadata": {
        "id": "Am_QyL7OgbDR"
      },
      "execution_count": 4,
      "outputs": []
    },
    {
      "cell_type": "code",
      "source": [
        "#Séparer les dates pour un traçage futur\n",
        "train_dates = pd.to_datetime(df['Date'])\n",
        "print(train_dates.tail(15)) #Vérifier les dernières dates"
      ],
      "metadata": {
        "colab": {
          "base_uri": "https://localhost:8080/",
          "height": 0
        },
        "id": "Rbwa4NWEhJS_",
        "outputId": "843a0884-642b-41c4-9aae-4e4dffb98efc"
      },
      "execution_count": 5,
      "outputs": [
        {
          "output_type": "stream",
          "name": "stdout",
          "text": [
            "1244   2020-11-30\n",
            "1245   2020-12-01\n",
            "1246   2020-12-02\n",
            "1247   2020-12-03\n",
            "1248   2020-12-04\n",
            "1249   2020-12-07\n",
            "1250   2020-12-08\n",
            "1251   2020-12-09\n",
            "1252   2020-12-10\n",
            "1253   2020-12-11\n",
            "1254   2020-12-14\n",
            "1255   2020-12-15\n",
            "1256   2020-12-16\n",
            "1257   2020-12-17\n",
            "1258   2020-12-18\n",
            "Name: Date, dtype: datetime64[ns]\n"
          ]
        }
      ]
    },
    {
      "cell_type": "code",
      "source": [
        "#Variables explicatives\n",
        "cols = list(df)[1:5]\n",
        "#Les colonnes de date, Close Adj et volume ne sont pas utilisées dans l'apprentissage. \n",
        "print(cols) #['Open', 'High', 'Low', 'Close']"
      ],
      "metadata": {
        "colab": {
          "base_uri": "https://localhost:8080/",
          "height": 0
        },
        "id": "EfNprefEhPOz",
        "outputId": "b77a3e22-0f85-4da2-bd97-2978758dd02f"
      },
      "execution_count": 6,
      "outputs": [
        {
          "output_type": "stream",
          "name": "stdout",
          "text": [
            "['Open', 'High', 'Low', 'Close']\n"
          ]
        }
      ]
    },
    {
      "cell_type": "code",
      "source": [
        "#Nouveau dataframe avec uniquement des données de training - 4 colonnes\n",
        "df_for_training = df[cols].astype(float)"
      ],
      "metadata": {
        "id": "sdkqOQK3hkIk"
      },
      "execution_count": 7,
      "outputs": []
    },
    {
      "cell_type": "code",
      "source": [
        "#Le LSTM utilise la sigmoide et la tanh qui sont sensibles à la grandeur, les valeurs doivent donc être normalisées.\n",
        "# normaliser l'ensemble des données\n",
        "scaler = StandardScaler()\n",
        "scaler = scaler.fit(df_for_training)\n",
        "df_for_training_scaled = scaler.transform(df_for_training)"
      ],
      "metadata": {
        "id": "mBXFxiw0hk91"
      },
      "execution_count": 8,
      "outputs": []
    },
    {
      "cell_type": "code",
      "source": [
        "#le n_features est 4. Nous ferons timesteps = 30 (données des derniers jours utilisées pour le training). \n",
        "#Listes vides à remplir à l'aide de données de training formatées\n",
        "import numpy as np\n",
        "trainX = []\n",
        "trainY = []\n",
        "n_future = 1   #Nombre de jours où l'on veut se projeter dans l'avenir sur la base des jours passés.\n",
        "n_past = 30  # Nombre de jours passés que nous voulons utiliser pour prédire le futur.\n",
        "#Reformat input data into a shape: (n_samples x timesteps x n_features)\n",
        "for i in range(n_past, len(df_for_training_scaled) - n_future +1):\n",
        "    trainX.append(df_for_training_scaled[i - n_past:i, 0:df_for_training.shape[1]])\n",
        "    trainY.append(df_for_training_scaled[i + n_future - 1:i + n_future, 0])\n",
        "trainX, trainY = np.array(trainX), np.array(trainY)\n",
        "\n",
        "print('trainX shape == {}.'.format(trainX.shape))\n",
        "print('trainY shape == {}.'.format(trainY.shape))"
      ],
      "metadata": {
        "colab": {
          "base_uri": "https://localhost:8080/",
          "height": 0
        },
        "id": "edgioU_vhre7",
        "outputId": "51a32671-3f12-4abf-f07d-c678e707781e"
      },
      "execution_count": 10,
      "outputs": [
        {
          "output_type": "stream",
          "name": "stdout",
          "text": [
            "trainX shape == (1229, 30, 4).\n",
            "trainY shape == (1229, 1).\n"
          ]
        }
      ]
    },
    {
      "cell_type": "code",
      "source": [
        "#definir the modèle\n",
        "model = Sequential()\n",
        "model.add(LSTM(64, activation='relu', input_shape=(trainX.shape[1], trainX.shape[2]), return_sequences=True))\n",
        "model.add(LSTM(32, activation='relu', return_sequences=False))\n",
        "model.add(Dropout(0.2))\n",
        "model.add(Dense(trainY.shape[1]))\n",
        "\n",
        "model.compile(optimizer='adam', loss='mse')\n",
        "model.summary()\n"
      ],
      "metadata": {
        "colab": {
          "base_uri": "https://localhost:8080/",
          "height": 0
        },
        "id": "MW18fc28iZNq",
        "outputId": "0221aaeb-1ecb-4b0e-da39-d69e48fc84eb"
      },
      "execution_count": 13,
      "outputs": [
        {
          "output_type": "stream",
          "name": "stdout",
          "text": [
            "Model: \"sequential\"\n",
            "_________________________________________________________________\n",
            " Layer (type)                Output Shape              Param #   \n",
            "=================================================================\n",
            " lstm (LSTM)                 (None, 30, 64)            17664     \n",
            "                                                                 \n",
            " lstm_1 (LSTM)               (None, 32)                12416     \n",
            "                                                                 \n",
            " dropout (Dropout)           (None, 32)                0         \n",
            "                                                                 \n",
            " dense (Dense)               (None, 1)                 33        \n",
            "                                                                 \n",
            "=================================================================\n",
            "Total params: 30,113\n",
            "Trainable params: 30,113\n",
            "Non-trainable params: 0\n",
            "_________________________________________________________________\n"
          ]
        }
      ]
    },
    {
      "cell_type": "code",
      "source": [
        "# fit le modèle\n",
        "history = model.fit(trainX, trainY, epochs=100, batch_size=16, validation_split=0.1, verbose=1)\n",
        "\n",
        "plt.plot(history.history['loss'], label='Training loss')\n",
        "plt.plot(history.history['val_loss'], label='Validation loss')\n",
        "plt.legend()"
      ],
      "metadata": {
        "colab": {
          "base_uri": "https://localhost:8080/",
          "height": 3754
        },
        "id": "YWNS0cHUidYF",
        "outputId": "d22bc9d3-8277-4202-ce9f-7451f6551712"
      },
      "execution_count": 18,
      "outputs": [
        {
          "output_type": "stream",
          "name": "stdout",
          "text": [
            "Epoch 1/100\n",
            "70/70 [==============================] - 2s 28ms/step - loss: 0.0130 - val_loss: 0.0492\n",
            "Epoch 2/100\n",
            "70/70 [==============================] - 2s 26ms/step - loss: 0.0117 - val_loss: 0.0057\n",
            "Epoch 3/100\n",
            "70/70 [==============================] - 2s 26ms/step - loss: 0.0132 - val_loss: 0.0128\n",
            "Epoch 4/100\n",
            "70/70 [==============================] - 2s 34ms/step - loss: 0.0110 - val_loss: 0.0216\n",
            "Epoch 5/100\n",
            "70/70 [==============================] - 3s 46ms/step - loss: 0.0127 - val_loss: 0.0069\n",
            "Epoch 6/100\n",
            "70/70 [==============================] - 3s 48ms/step - loss: 0.0121 - val_loss: 0.0726\n",
            "Epoch 7/100\n",
            "70/70 [==============================] - 3s 47ms/step - loss: 0.0127 - val_loss: 0.0195\n",
            "Epoch 8/100\n",
            "70/70 [==============================] - 3s 48ms/step - loss: 0.0117 - val_loss: 0.0119\n",
            "Epoch 9/100\n",
            "70/70 [==============================] - 4s 51ms/step - loss: 0.0114 - val_loss: 0.0529\n",
            "Epoch 10/100\n",
            "70/70 [==============================] - 3s 50ms/step - loss: 0.0134 - val_loss: 0.0049\n",
            "Epoch 11/100\n",
            "70/70 [==============================] - 3s 43ms/step - loss: 0.0135 - val_loss: 0.0109\n",
            "Epoch 12/100\n",
            "70/70 [==============================] - 3s 48ms/step - loss: 0.0145 - val_loss: 0.0226\n",
            "Epoch 13/100\n",
            "70/70 [==============================] - 4s 51ms/step - loss: 0.0122 - val_loss: 0.0043\n",
            "Epoch 14/100\n",
            "70/70 [==============================] - 3s 50ms/step - loss: 0.0129 - val_loss: 0.0287\n",
            "Epoch 15/100\n",
            "70/70 [==============================] - 3s 39ms/step - loss: 0.0130 - val_loss: 0.0062\n",
            "Epoch 16/100\n",
            "70/70 [==============================] - 3s 41ms/step - loss: 0.0110 - val_loss: 0.0052\n",
            "Epoch 17/100\n",
            "70/70 [==============================] - 3s 44ms/step - loss: 0.0117 - val_loss: 0.0082\n",
            "Epoch 18/100\n",
            "70/70 [==============================] - 3s 41ms/step - loss: 0.0122 - val_loss: 0.0181\n",
            "Epoch 19/100\n",
            "70/70 [==============================] - 3s 40ms/step - loss: 0.0104 - val_loss: 0.0254\n",
            "Epoch 20/100\n",
            "70/70 [==============================] - 3s 39ms/step - loss: 0.0115 - val_loss: 0.0090\n",
            "Epoch 21/100\n",
            "70/70 [==============================] - 3s 40ms/step - loss: 0.0130 - val_loss: 0.0098\n",
            "Epoch 22/100\n",
            "70/70 [==============================] - 3s 40ms/step - loss: 0.0128 - val_loss: 0.0214\n",
            "Epoch 23/100\n",
            "70/70 [==============================] - 3s 41ms/step - loss: 0.0123 - val_loss: 0.0245\n",
            "Epoch 24/100\n",
            "70/70 [==============================] - 3s 42ms/step - loss: 0.0114 - val_loss: 0.0063\n",
            "Epoch 25/100\n",
            "70/70 [==============================] - 3s 42ms/step - loss: 0.0131 - val_loss: 0.0461\n",
            "Epoch 26/100\n",
            "70/70 [==============================] - 3s 43ms/step - loss: 0.0116 - val_loss: 0.0638\n",
            "Epoch 27/100\n",
            "70/70 [==============================] - 3s 43ms/step - loss: 0.0124 - val_loss: 0.0490\n",
            "Epoch 28/100\n",
            "70/70 [==============================] - 3s 43ms/step - loss: 0.0126 - val_loss: 0.0105\n",
            "Epoch 29/100\n",
            "70/70 [==============================] - 3s 40ms/step - loss: 0.0124 - val_loss: 0.0113\n",
            "Epoch 30/100\n",
            "70/70 [==============================] - 3s 40ms/step - loss: 0.0135 - val_loss: 0.0189\n",
            "Epoch 31/100\n",
            "70/70 [==============================] - 3s 40ms/step - loss: 0.0118 - val_loss: 0.0129\n",
            "Epoch 32/100\n",
            "70/70 [==============================] - 3s 40ms/step - loss: 0.0123 - val_loss: 0.0343\n",
            "Epoch 33/100\n",
            "70/70 [==============================] - 3s 41ms/step - loss: 0.0138 - val_loss: 0.0050\n",
            "Epoch 34/100\n",
            "70/70 [==============================] - 3s 43ms/step - loss: 0.0120 - val_loss: 0.0214\n",
            "Epoch 35/100\n",
            "70/70 [==============================] - 3s 42ms/step - loss: 0.0137 - val_loss: 0.0232\n",
            "Epoch 36/100\n",
            "70/70 [==============================] - 3s 40ms/step - loss: 0.0122 - val_loss: 0.0083\n",
            "Epoch 37/100\n",
            "70/70 [==============================] - 3s 40ms/step - loss: 0.0137 - val_loss: 0.0089\n",
            "Epoch 38/100\n",
            "70/70 [==============================] - 3s 41ms/step - loss: 0.0118 - val_loss: 0.0063\n",
            "Epoch 39/100\n",
            "70/70 [==============================] - 3s 41ms/step - loss: 0.0122 - val_loss: 0.0169\n",
            "Epoch 40/100\n",
            "70/70 [==============================] - 3s 39ms/step - loss: 0.0114 - val_loss: 0.0055\n",
            "Epoch 41/100\n",
            "70/70 [==============================] - 3s 40ms/step - loss: 0.0126 - val_loss: 0.0101\n",
            "Epoch 42/100\n",
            "70/70 [==============================] - 3s 41ms/step - loss: 0.0123 - val_loss: 0.0067\n",
            "Epoch 43/100\n",
            "70/70 [==============================] - 2s 35ms/step - loss: 0.0131 - val_loss: 0.0095\n",
            "Epoch 44/100\n",
            "70/70 [==============================] - 3s 36ms/step - loss: 0.0122 - val_loss: 0.0235\n",
            "Epoch 45/100\n",
            "70/70 [==============================] - 3s 36ms/step - loss: 0.0113 - val_loss: 0.0231\n",
            "Epoch 46/100\n",
            "70/70 [==============================] - 4s 57ms/step - loss: 0.0136 - val_loss: 0.0125\n",
            "Epoch 47/100\n",
            "70/70 [==============================] - 4s 61ms/step - loss: 0.0120 - val_loss: 0.0930\n",
            "Epoch 48/100\n",
            "70/70 [==============================] - 4s 55ms/step - loss: 0.0118 - val_loss: 0.0108\n",
            "Epoch 49/100\n",
            "70/70 [==============================] - 4s 63ms/step - loss: 0.0137 - val_loss: 0.0263\n",
            "Epoch 50/100\n",
            "70/70 [==============================] - 4s 57ms/step - loss: 0.0138 - val_loss: 0.0146\n",
            "Epoch 51/100\n",
            "70/70 [==============================] - 4s 61ms/step - loss: 0.0120 - val_loss: 0.0074\n",
            "Epoch 52/100\n",
            "70/70 [==============================] - 4s 62ms/step - loss: 0.0118 - val_loss: 0.0077\n",
            "Epoch 53/100\n",
            "70/70 [==============================] - 4s 56ms/step - loss: 0.0115 - val_loss: 0.0792\n",
            "Epoch 54/100\n",
            "70/70 [==============================] - 3s 44ms/step - loss: 0.0104 - val_loss: 0.0058\n",
            "Epoch 55/100\n",
            "70/70 [==============================] - 3s 41ms/step - loss: 0.0122 - val_loss: 0.0137\n",
            "Epoch 56/100\n",
            "70/70 [==============================] - 4s 52ms/step - loss: 0.0118 - val_loss: 0.0104\n",
            "Epoch 57/100\n",
            "70/70 [==============================] - 3s 49ms/step - loss: 0.0118 - val_loss: 0.0191\n",
            "Epoch 58/100\n",
            "70/70 [==============================] - 3s 43ms/step - loss: 0.0117 - val_loss: 0.0326\n",
            "Epoch 59/100\n",
            "70/70 [==============================] - 4s 51ms/step - loss: 0.0120 - val_loss: 0.0050\n",
            "Epoch 60/100\n",
            "70/70 [==============================] - 4s 55ms/step - loss: 0.0126 - val_loss: 0.0252\n",
            "Epoch 61/100\n",
            "70/70 [==============================] - 4s 51ms/step - loss: 0.0112 - val_loss: 0.0048\n",
            "Epoch 62/100\n",
            "70/70 [==============================] - 4s 55ms/step - loss: 0.0125 - val_loss: 0.0054\n",
            "Epoch 63/100\n",
            "70/70 [==============================] - 4s 53ms/step - loss: 0.0120 - val_loss: 0.0068\n",
            "Epoch 64/100\n",
            "70/70 [==============================] - 4s 50ms/step - loss: 0.0121 - val_loss: 0.0129\n",
            "Epoch 65/100\n",
            "70/70 [==============================] - 3s 46ms/step - loss: 0.0112 - val_loss: 0.0101\n",
            "Epoch 66/100\n",
            "70/70 [==============================] - 3s 41ms/step - loss: 0.0113 - val_loss: 0.0417\n",
            "Epoch 67/100\n",
            "70/70 [==============================] - 3s 40ms/step - loss: 0.0125 - val_loss: 0.0054\n",
            "Epoch 68/100\n",
            "70/70 [==============================] - 3s 50ms/step - loss: 0.0115 - val_loss: 0.1087\n",
            "Epoch 69/100\n",
            "70/70 [==============================] - 3s 41ms/step - loss: 0.0135 - val_loss: 0.0098\n",
            "Epoch 70/100\n",
            "70/70 [==============================] - 3s 40ms/step - loss: 0.0117 - val_loss: 0.0117\n",
            "Epoch 71/100\n",
            "70/70 [==============================] - 3s 44ms/step - loss: 0.0115 - val_loss: 0.0110\n",
            "Epoch 72/100\n",
            "70/70 [==============================] - 3s 46ms/step - loss: 0.0129 - val_loss: 0.0126\n",
            "Epoch 73/100\n",
            "70/70 [==============================] - 2s 29ms/step - loss: 0.0111 - val_loss: 0.0500\n",
            "Epoch 74/100\n",
            "70/70 [==============================] - 2s 26ms/step - loss: 0.0135 - val_loss: 0.0064\n",
            "Epoch 75/100\n",
            "70/70 [==============================] - 2s 26ms/step - loss: 0.0131 - val_loss: 0.0319\n",
            "Epoch 76/100\n",
            "70/70 [==============================] - 2s 27ms/step - loss: 0.0119 - val_loss: 0.0064\n",
            "Epoch 77/100\n",
            "70/70 [==============================] - 2s 26ms/step - loss: 0.0122 - val_loss: 0.0060\n",
            "Epoch 78/100\n",
            "70/70 [==============================] - 3s 42ms/step - loss: 0.0114 - val_loss: 0.0120\n",
            "Epoch 79/100\n",
            "70/70 [==============================] - 3s 42ms/step - loss: 0.0115 - val_loss: 0.0090\n",
            "Epoch 80/100\n",
            "70/70 [==============================] - 3s 41ms/step - loss: 0.0126 - val_loss: 0.0076\n",
            "Epoch 81/100\n",
            "70/70 [==============================] - 4s 59ms/step - loss: 0.0115 - val_loss: 0.0098\n",
            "Epoch 82/100\n",
            "70/70 [==============================] - 4s 57ms/step - loss: 0.0120 - val_loss: 0.0187\n",
            "Epoch 83/100\n",
            "70/70 [==============================] - 3s 49ms/step - loss: 0.0131 - val_loss: 0.0064\n",
            "Epoch 84/100\n",
            "70/70 [==============================] - 3s 40ms/step - loss: 0.0129 - val_loss: 0.0053\n",
            "Epoch 85/100\n",
            "70/70 [==============================] - 3s 40ms/step - loss: 0.0124 - val_loss: 0.0104\n",
            "Epoch 86/100\n",
            "70/70 [==============================] - 3s 41ms/step - loss: 0.0124 - val_loss: 0.0177\n",
            "Epoch 87/100\n",
            "70/70 [==============================] - 3s 42ms/step - loss: 0.0136 - val_loss: 0.0240\n",
            "Epoch 88/100\n",
            "70/70 [==============================] - 3s 36ms/step - loss: 0.0116 - val_loss: 0.0091\n",
            "Epoch 89/100\n",
            "70/70 [==============================] - 2s 35ms/step - loss: 0.0134 - val_loss: 0.0072\n",
            "Epoch 90/100\n",
            "70/70 [==============================] - 3s 39ms/step - loss: 0.0118 - val_loss: 0.0064\n",
            "Epoch 91/100\n",
            "70/70 [==============================] - 3s 41ms/step - loss: 0.0116 - val_loss: 0.0050\n",
            "Epoch 92/100\n",
            "70/70 [==============================] - 3s 38ms/step - loss: 0.0127 - val_loss: 0.0056\n",
            "Epoch 93/100\n",
            "70/70 [==============================] - 3s 39ms/step - loss: 0.0124 - val_loss: 0.0209\n",
            "Epoch 94/100\n",
            "70/70 [==============================] - 3s 38ms/step - loss: 0.0126 - val_loss: 0.0134\n",
            "Epoch 95/100\n",
            "70/70 [==============================] - 3s 41ms/step - loss: 0.0118 - val_loss: 0.0091\n",
            "Epoch 96/100\n",
            "70/70 [==============================] - 3s 42ms/step - loss: 0.0121 - val_loss: 0.0570\n",
            "Epoch 97/100\n",
            "70/70 [==============================] - 3s 40ms/step - loss: 0.0127 - val_loss: 0.0095\n",
            "Epoch 98/100\n",
            "70/70 [==============================] - 3s 43ms/step - loss: 0.0130 - val_loss: 0.0277\n",
            "Epoch 99/100\n",
            "70/70 [==============================] - 3s 41ms/step - loss: 0.0124 - val_loss: 0.0607\n",
            "Epoch 100/100\n",
            "70/70 [==============================] - 3s 50ms/step - loss: 0.0130 - val_loss: 0.0084\n"
          ]
        },
        {
          "output_type": "execute_result",
          "data": {
            "text/plain": [
              "<matplotlib.legend.Legend at 0x7ff8a369ff50>"
            ]
          },
          "metadata": {},
          "execution_count": 18
        },
        {
          "output_type": "display_data",
          "data": {
            "image/png": "[encoded data removed]",
            "text/plain": [
              "<Figure size 432x288 with 1 Axes>"
            ]
          },
          "metadata": {
            "needs_background": "light"
          }
        }
      ]
    },
    {
      "cell_type": "code",
      "source": [
        "#Prédire\n",
        "#Les bibliothèques qui nous aideront à extraire uniquement les jours ouvrables aux États-Unis.\n",
        "#Sinon, nos dates seraient fausses lorsque nous regardons en arrière (ou en avant).  \n",
        "from pandas.tseries.holiday import USFederalHolidayCalendar\n",
        "from pandas.tseries.offsets import CustomBusinessDay\n",
        "us_bd = CustomBusinessDay(calendar=USFederalHolidayCalendar())\n",
        "#Rappelez-vous que nous ne pouvons prédire qu'un seul jour dans le futur car notre modèle a besoin de 4 variables.\n",
        "#comme entrées pour la prédiction. Nous n'avons les 4 variables que jusqu'au dernier jour dans notre jeu de données.\n",
        "n_past = 30\n",
        "n_days_for_prediction=30  #prévoyons les 30 derniers jours"
      ],
      "metadata": {
        "id": "wT1gUBJIivS7"
      },
      "execution_count": 19,
      "outputs": []
    },
    {
      "cell_type": "code",
      "source": [
        "predict_period_dates = pd.date_range(list(train_dates)[-n_past], periods=n_days_for_prediction, freq=us_bd).tolist()\n",
        "print(predict_period_dates)\n",
        "\n",
        "#faisons la prédiction\n",
        "prediction = model.predict(trainX[-n_days_for_prediction:]) #shape = (n, 1) où n est le nombre de jours pour la prédiction (n_days_for_prediction)\n",
        "\n",
        "#Effectuer une transformation inverse pour revenir à l'échelle d'origine\n",
        "#Puisque nous avons utilisé 4 variables pour la transformation, l'inverse attend les mêmes dimensions.\n",
        "#Par conséquent, copions nos valeurs 4 fois et rejetons-les après la transformation inverse.\n",
        "prediction_copies = np.repeat(prediction, df_for_training.shape[1], axis=-1)\n",
        "y_pred_future = scaler.inverse_transform(prediction_copies)[:,0]"
      ],
      "metadata": {
        "colab": {
          "base_uri": "https://localhost:8080/",
          "height": 0
        },
        "id": "1nNDe7twiwdw",
        "outputId": "db48a9a5-ac3f-4b4e-d856-8f03b478b478"
      },
      "execution_count": 20,
      "outputs": [
        {
          "output_type": "stream",
          "name": "stdout",
          "text": [
            "[Timestamp('2020-11-06 00:00:00', freq='C'), Timestamp('2020-11-09 00:00:00', freq='C'), Timestamp('2020-11-10 00:00:00', freq='C'), Timestamp('2020-11-12 00:00:00', freq='C'), Timestamp('2020-11-13 00:00:00', freq='C'), Timestamp('2020-11-16 00:00:00', freq='C'), Timestamp('2020-11-17 00:00:00', freq='C'), Timestamp('2020-11-18 00:00:00', freq='C'), Timestamp('2020-11-19 00:00:00', freq='C'), Timestamp('2020-11-20 00:00:00', freq='C'), Timestamp('2020-11-23 00:00:00', freq='C'), Timestamp('2020-11-24 00:00:00', freq='C'), Timestamp('2020-11-25 00:00:00', freq='C'), Timestamp('2020-11-27 00:00:00', freq='C'), Timestamp('2020-11-30 00:00:00', freq='C'), Timestamp('2020-12-01 00:00:00', freq='C'), Timestamp('2020-12-02 00:00:00', freq='C'), Timestamp('2020-12-03 00:00:00', freq='C'), Timestamp('2020-12-04 00:00:00', freq='C'), Timestamp('2020-12-07 00:00:00', freq='C'), Timestamp('2020-12-08 00:00:00', freq='C'), Timestamp('2020-12-09 00:00:00', freq='C'), Timestamp('2020-12-10 00:00:00', freq='C'), Timestamp('2020-12-11 00:00:00', freq='C'), Timestamp('2020-12-14 00:00:00', freq='C'), Timestamp('2020-12-15 00:00:00', freq='C'), Timestamp('2020-12-16 00:00:00', freq='C'), Timestamp('2020-12-17 00:00:00', freq='C'), Timestamp('2020-12-18 00:00:00', freq='C'), Timestamp('2020-12-21 00:00:00', freq='C')]\n"
          ]
        }
      ]
    },
    {
      "cell_type": "code",
      "source": [
        "# Convertir l'horodatage(timestamp) en date.\n",
        "forecast_dates = []\n",
        "for time_i in predict_period_dates:\n",
        "    forecast_dates.append(time_i.date())\n",
        "    \n",
        "df_forecast = pd.DataFrame({'Date':np.array(forecast_dates), 'Open':y_pred_future})\n",
        "df_forecast['Date']=pd.to_datetime(df_forecast['Date'])\n",
        "\n",
        "\n",
        "original = df[['Date', 'Open']]\n",
        "original['Date']=pd.to_datetime(original['Date'])\n",
        "original = original.loc[original['Date'] >= '2020-1-1']\n",
        "\n",
        "sns.lineplot(original['Date'], original['Open'])\n",
        "sns.lineplot(df_forecast['Date'], df_forecast['Open'])"
      ],
      "metadata": {
        "colab": {
          "base_uri": "https://localhost:8080/",
          "height": 490
        },
        "id": "NMjy4kyki0sr",
        "outputId": "e905b782-2ae1-4a2f-ba73-5e90d8d1777c"
      },
      "execution_count": 21,
      "outputs": [
        {
          "output_type": "stream",
          "name": "stderr",
          "text": [
            "/usr/local/lib/python3.7/dist-packages/ipykernel_launcher.py:11: SettingWithCopyWarning: \n",
            "A value is trying to be set on a copy of a slice from a DataFrame.\n",
            "Try using .loc[row_indexer,col_indexer] = value instead\n",
            "\n",
            "See the caveats in the documentation: https://pandas.pydata.org/pandas-docs/stable/user_guide/indexing.html#returning-a-view-versus-a-copy\n",
            "  # This is added back by InteractiveShellApp.init_path()\n",
            "/usr/local/lib/python3.7/dist-packages/seaborn/_decorators.py:43: FutureWarning: Pass the following variables as keyword args: x, y. From version 0.12, the only valid positional argument will be `data`, and passing other arguments without an explicit keyword will result in an error or misinterpretation.\n",
            "  FutureWarning\n",
            "/usr/local/lib/python3.7/dist-packages/seaborn/_decorators.py:43: FutureWarning: Pass the following variables as keyword args: x, y. From version 0.12, the only valid positional argument will be `data`, and passing other arguments without an explicit keyword will result in an error or misinterpretation.\n",
            "  FutureWarning\n"
          ]
        },
        {
          "output_type": "execute_result",
          "data": {
            "text/plain": [
              "<matplotlib.axes._subplots.AxesSubplot at 0x7ff8a36d9710>"
            ]
          },
          "metadata": {},
          "execution_count": 21
        },
        {
          "output_type": "display_data",
          "data": {
            "image/png": "[encoded data removed]",
            "text/plain": [
              "<Figure size 432x288 with 1 Axes>"
            ]
          },
          "metadata": {
            "needs_background": "light"
          }
        }
      ]
    }
  ]
}